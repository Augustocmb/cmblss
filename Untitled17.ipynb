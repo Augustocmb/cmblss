{
 "cells": [
  {
   "cell_type": "code",
   "execution_count": 6,
   "id": "b4c51137",
   "metadata": {},
   "outputs": [
    {
     "name": "stderr",
     "output_type": "stream",
     "text": [
      "\n",
      "WARNING: version mismatch between CFITSIO header (v4.000999999999999) and linked library (v4.01).\n",
      "\n",
      "\n",
      "WARNING: version mismatch between CFITSIO header (v4.000999999999999) and linked library (v4.01).\n",
      "\n",
      "\n",
      "WARNING: version mismatch between CFITSIO header (v4.000999999999999) and linked library (v4.01).\n",
      "\n"
     ]
    }
   ],
   "source": [
    "# Test_code for PolSpice\n",
    "import numpy as np\n",
    "import healpy as hp\n",
    "import sys\n",
    "import ispice as isp\n",
    "from astropy.io import fits\n",
    "import matplotlib.pyplot as plt"
   ]
  },
  {
   "cell_type": "code",
   "execution_count": 7,
   "id": "b37544b2",
   "metadata": {},
   "outputs": [
    {
     "name": "stderr",
     "output_type": "stream",
     "text": [
      "setting the output map dtype to [dtype('float64')]\n"
     ]
    }
   ],
   "source": [
    "#Ells and synthetic map\n",
    "lmax = 256\n",
    "input_cl = np.ones(lmax + 1)\n",
    "np.random.seed(1000)\n",
    "input_map = hp.synfast(input_cl, nside=256, pixwin=True)\n",
    "hp.write_map('input.fits', input_map, overwrite=True)\n",
    "\n"
   ]
  },
  {
   "cell_type": "code",
   "execution_count": 10,
   "id": "dff13a42",
   "metadata": {},
   "outputs": [
    {
     "name": "stdout",
     "output_type": "stream",
     "text": [
      "/home/akozameh/miniconda3/envs/CMB/bin/spice -apodizesigma NO -apodizetype 0 -beam NO -beam2 NO -clfile clout.fits -decouple NO -mapfile input.fits -fits_out YES -nlmax 256 -normfac 1.0 -npairsthreshold 0.00000 -overwrite YES -polarization NO -pixelfile YES -pixelfile2 YES -subav NO -subdipole NO -symmetric_cl NO -thetamax NO -tolerance NO -verbosity 2 -weightpower 1.0 -weightpower2 1.0 -weightpowerp 1.0 -weightpowerp2 1.0 \n",
      " ===> HEALPIXDATA not defined, trying HEALPIX...\n",
      " ===> HEALPIX not defined, trying default values ...\n",
      " /usr/local/src/Healpix/data\n",
      " /usr/local/src/Healpix_2.00/data\n",
      " /usr/local/lib/Healpix/data\n",
      " ===> Failed to find Healpix directory. Abort\n",
      "\n"
     ]
    },
    {
     "data": {
      "text/plain": [
       "0"
      ]
     },
     "execution_count": 10,
     "metadata": {},
     "output_type": "execute_result"
    }
   ],
   "source": [
    "isp.ispice('input.fits', clout='clout.fits', nlmax=lmax)"
   ]
  },
  {
   "cell_type": "code",
   "execution_count": null,
   "id": "91a6ed37",
   "metadata": {},
   "outputs": [],
   "source": []
  }
 ],
 "metadata": {
  "kernelspec": {
   "display_name": "Python 3 (ipykernel)",
   "language": "python",
   "name": "python3"
  },
  "language_info": {
   "codemirror_mode": {
    "name": "ipython",
    "version": 3
   },
   "file_extension": ".py",
   "mimetype": "text/x-python",
   "name": "python",
   "nbconvert_exporter": "python",
   "pygments_lexer": "ipython3",
   "version": "3.10.4"
  }
 },
 "nbformat": 4,
 "nbformat_minor": 5
}
