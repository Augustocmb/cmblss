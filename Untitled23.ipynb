{
 "cells": [
  {
   "cell_type": "markdown",
   "id": "4f888f8b",
   "metadata": {},
   "source": [
    "To illustrate how to create a cosmological likelihood in cobaya, we apply the procedure above to a fictitious WMAP-era full-sky CMB TT experiment."
   ]
  },
  {
   "cell_type": "code",
   "execution_count": 8,
   "id": "bd1ab270",
   "metadata": {},
   "outputs": [
    {
     "name": "stderr",
     "output_type": "stream",
     "text": [
      "\n",
      "WARNING: version mismatch between CFITSIO header (v4.000999999999999) and linked library (v4.01).\n",
      "\n",
      "\n",
      "WARNING: version mismatch between CFITSIO header (v4.000999999999999) and linked library (v4.01).\n",
      "\n",
      "\n",
      "WARNING: version mismatch between CFITSIO header (v4.000999999999999) and linked library (v4.01).\n",
      "\n"
     ]
    }
   ],
   "source": [
    "import numpy as np\n",
    "import healpy as hp\n",
    "import matplotlib.pyplot as plt\n",
    "%matplotlib inline"
   ]
  },
  {
   "cell_type": "code",
   "execution_count": 9,
   "id": "b2224b3a",
   "metadata": {},
   "outputs": [
    {
     "name": "stdout",
     "output_type": "stream",
     "text": [
      "[camb] `camb` module loaded successfully from /home/akozameh/miniconda3/envs/CMB/lib/python3.10/site-packages/camb\n",
      "[model] *WARNING* Theories {camb, camb.transfers} do not appear to be actually used for anything\n"
     ]
    }
   ],
   "source": [
    "fiducial_params = {\n",
    "    'ombh2': 0.022, 'omch2': 0.12, 'H0': 68, 'tau': 0.07,\n",
    "    'As': 2.2e-9, 'ns': 0.96,\n",
    "    'mnu': 0.06, 'nnu': 3.046}\n",
    "l_max = 1000\n",
    "\n",
    "packages_path = '/path/to/your/packages'\n",
    "\n",
    "info_fiducial = {\n",
    "    'params': fiducial_params,\n",
    "    'likelihood': {'one': None},\n",
    "    'theory': {'camb': {\"extra_args\": {\"num_massive_neutrinos\": 1}}},\n",
    "    'packages_path': packages_path}\n",
    "from cobaya.model import get_model\n",
    "model_fiducial = get_model(info_fiducial)"
   ]
  },
  {
   "cell_type": "code",
   "execution_count": 10,
   "id": "c487ea45",
   "metadata": {},
   "outputs": [],
   "source": [
    "# Declare our desired theory product\n",
    "# (there is no cosmological likelihood doing it for us)\n",
    "model_fiducial.add_requirements({\"Cl\": {'tt': l_max}})"
   ]
  },
  {
   "cell_type": "code",
   "execution_count": 11,
   "id": "82e66275",
   "metadata": {},
   "outputs": [],
   "source": [
    "# Compute and extract the CMB power spectrum\n",
    "# (In muK^-2, without l(l+1)/(2pi) factor)\n",
    "# notice the empty dictionary below: all parameters are fixed\n",
    "model_fiducial.logposterior({})\n",
    "Cls = model_fiducial.provider.get_Cl(ell_factor=False, units=\"muK2\")"
   ]
  },
  {
   "cell_type": "code",
   "execution_count": 12,
   "id": "cf9ac535",
   "metadata": {},
   "outputs": [],
   "source": [
    "# Our fiducial power spectrum\n",
    "Cl_est = Cls['tt'][:l_max + 1]"
   ]
  },
  {
   "cell_type": "code",
   "execution_count": 17,
   "id": "ef3b5ae8",
   "metadata": {},
   "outputs": [],
   "source": [
    "import numpy as np\n",
    "import matplotlib.pyplot as plt\n",
    "\n",
    "_do_plot = False\n",
    "\n",
    "def my_like(\n",
    "        # Parameters that we may sample over (or not)\n",
    "        noise_std_pixel=20,  # muK\n",
    "        beam_FWHM=0.25,  # deg\n",
    "        # Keyword through which the cobaya likelihood instance will be passed.\n",
    "        _self=None):\n",
    "    # Noise spectrum, beam-corrected\n",
    "    healpix_Nside = 512\n",
    "    pixel_area_rad = np.pi / (3 * healpix_Nside ** 2)\n",
    "    weight_per_solid_angle = (noise_std_pixel ** 2 * pixel_area_rad) ** -1\n",
    "    beam_sigma_rad = beam_FWHM / np.sqrt(8 * np.log(2)) * np.pi / 180.\n",
    "    ells = np.arange(l_max + 1)\n",
    "    Nl = np.exp((ells * beam_sigma_rad) ** 2) / weight_per_solid_angle\n",
    "     # Cl of the map: data + noise\n",
    "    Cl_map = Cl_est + Nl\n",
    "    # Request the Cl from the provider\n",
    "    Cl_theo = _self.provider.get_Cl(ell_factor=False, units=\"muK2\")['tt'][:l_max + 1]\n",
    "    Cl_map_theo = Cl_theo + Nl\n",
    "    # Auxiliary plot\n",
    "    if _do_plot:\n",
    "        ell_factor = ells * (ells + 1) / (2 * np.pi)\n",
    "        plt.figure()\n",
    "        plt.plot(ells[2:], (Cl_theo * ell_factor)[2:], label=r'Theory $C_\\ell$')\n",
    "        plt.plot(ells[2:], (Cl_est * ell_factor)[2:], label=r'Estimated $C_\\ell$',\n",
    "                 ls=\"--\")\n",
    "        plt.plot(ells[2:], (Cl_map * ell_factor)[2:], label=r'Map $C_\\ell$')\n",
    "        plt.plot(ells[2:], (Nl * ell_factor)[2:], label='Noise')\n",
    "        plt.legend()\n",
    "        plt.ylim([0, 6000])\n",
    "        plt.savefig(_plot_name)\n",
    "        plt.close()\n",
    "     # ----------------\n",
    "    # Compute the log-likelihood\n",
    "    V = Cl_map[2:] / Cl_map_theo[2:]\n",
    "    logp = np.sum((2 * ells[2:] + 1) * (-V / 2 + 1 / 2. * np.log(V)))\n",
    "    # Set our derived parameter\n",
    "    derived = {'Map_Cl_at_500': Cl_map[500]}\n",
    "    return logp, derived\n"
   ]
  },
  {
   "cell_type": "code",
   "execution_count": 18,
   "id": "d258e5d1",
   "metadata": {},
   "outputs": [
    {
     "name": "stdout",
     "output_type": "stream",
     "text": [
      "[camb] `camb` module loaded successfully from /home/akozameh/miniconda3/envs/CMB/lib/python3.10/site-packages/camb\n",
      "[my_cl_like] Initialized external likelihood.\n",
      "[matplotlib.mathtext] Substituting symbol D from STIXNonUnicode\n",
      "[matplotlib.mathtext] Substituting symbol M from STIXNonUnicode\n"
     ]
    }
   ],
   "source": [
    "info = {\n",
    "    'params': {\n",
    "        # Fixed\n",
    "        'ombh2': 0.022, 'omch2': 0.12, 'H0': 68, 'tau': 0.07,\n",
    "        'mnu': 0.06, 'nnu': 3.046,\n",
    "        # Sampled\n",
    "        'As': {'prior': {'min': 1e-9, 'max': 4e-9}, 'latex': 'A_s'},\n",
    "        'ns': {'prior': {'min': 0.9, 'max': 1.1}, 'latex': 'n_s'},\n",
    "        'noise_std_pixel': {\n",
    "            'prior': {'dist': 'norm', 'loc': 20, 'scale': 5},\n",
    "            'latex': r'\\sigma_\\mathrm{pix}'},\n",
    "        # Derived\n",
    "        'Map_Cl_at_500': {'latex': r'C_{500,\\,\\mathrm{map}}'}},\n",
    "    'likelihood': {'my_cl_like': {\n",
    "        \"external\": my_like,\n",
    "        # Declare required quantities!\n",
    "        \"requires\": {'Cl': {'tt': l_max}},\n",
    "        # Declare derived parameters!\n",
    "        \"output_params\": ['Map_Cl_at_500']}},\n",
    "    'theory': {'camb': {'stop_at_error': True}},\n",
    "    'packages_path': packages_path}\n",
    "\n",
    "from cobaya.model import get_model\n",
    "model = get_model(info)\n",
    "\n",
    "# Eval likelihood once with fid values and plot\n",
    "_do_plot = True\n",
    "_plot_name = \"fiducial.png\"\n",
    "fiducial_params_w_noise = fiducial_params.copy()\n",
    "fiducial_params_w_noise['noise_std_pixel'] = 20\n",
    "model.logposterior(fiducial_params_w_noise)\n",
    "_do_plot = False\n",
    "# Plot of (prpto) probability density\n",
    "As = np.linspace(1e-9, 4e-9, 10)\n",
    "loglikes = [model.loglike({'As': A, 'ns': 0.96, 'noise_std_pixel': 20})[0] for A in As]\n",
    "plt.figure()\n",
    "plt.plot(As, loglikes)\n",
    "plt.gca().get_yaxis().set_visible(False)\n",
    "plt.title(r\"$\\log P(A_s|\\mathcal{D},\\mathcal{M}) (+ \\mathrm{const})$\")\n",
    "plt.xlabel(r\"$A_s$\")\n",
    "plt.savefig(\"log_like.png\")\n",
    "plt.close()"
   ]
  },
  {
   "cell_type": "code",
   "execution_count": 19,
   "id": "883ff35c",
   "metadata": {},
   "outputs": [],
   "source": [
    "from cobaya.likelihood import Likelihood\n",
    "import numpy as np\n",
    "import os"
   ]
  },
  {
   "cell_type": "code",
   "execution_count": null,
   "id": "3c2efa9a",
   "metadata": {},
   "outputs": [],
   "source": [
    "class MyLikelihood(Likelihood):\n",
    "    def  \"\"\"\n",
    "         Prepare any computation, importing any necessary code, files, etc.\n",
    "\n",
    "         e.g. here we load some data file, with default cl_file set in .yaml below,\n",
    "         or overridden when running Cobaya.\n",
    "        \"\"\"\n",
    "\n",
    "        self.data = np.loadtxt(self.cl_file)\n",
    "    def get_requirements(self):\n",
    "        \"\"\"\n",
    "         return dictionary specifying quantities calculated by a theory code are needed\n",
    "\n",
    "         e.g. here we need C_L^{tt} to lmax=2500 and the H0 value\n",
    "        \"\"\"\n",
    "        return {'Cl': {'tt': 2500}, 'H0': None}"
   ]
  }
 ],
 "metadata": {
  "kernelspec": {
   "display_name": "Python 3 (ipykernel)",
   "language": "python",
   "name": "python3"
  },
  "language_info": {
   "codemirror_mode": {
    "name": "ipython",
    "version": 3
   },
   "file_extension": ".py",
   "mimetype": "text/x-python",
   "name": "python",
   "nbconvert_exporter": "python",
   "pygments_lexer": "ipython3",
   "version": "3.10.4"
  }
 },
 "nbformat": 4,
 "nbformat_minor": 5
}
