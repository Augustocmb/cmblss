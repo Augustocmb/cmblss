{
 "cells": [
  {
   "cell_type": "markdown",
   "id": "65f2f85b",
   "metadata": {},
   "source": [
    "In this notebook Im gonna to explore the cosmological parameters using iminuit"
   ]
  },
  {
   "cell_type": "code",
   "execution_count": 2,
   "id": "7cf2c3fb",
   "metadata": {},
   "outputs": [],
   "source": [
    "# Importing libraries\n",
    "import numpy as np\n",
    "from iminuit import Minuit"
   ]
  },
  {
   "cell_type": "code",
   "execution_count": null,
   "id": "882e07c1",
   "metadata": {},
   "outputs": [],
   "source": [
    "# CMB power spectrum with its experimental errors\n"
   ]
  }
 ],
 "metadata": {
  "kernelspec": {
   "display_name": "Python 3 (ipykernel)",
   "language": "python",
   "name": "python3"
  },
  "language_info": {
   "codemirror_mode": {
    "name": "ipython",
    "version": 3
   },
   "file_extension": ".py",
   "mimetype": "text/x-python",
   "name": "python",
   "nbconvert_exporter": "python",
   "pygments_lexer": "ipython3",
   "version": "3.10.4"
  }
 },
 "nbformat": 4,
 "nbformat_minor": 5
}
