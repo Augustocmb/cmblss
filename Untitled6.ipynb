{
 "cells": [
  {
   "cell_type": "markdown",
   "id": "e20e7e31",
   "metadata": {},
   "source": [
    "# I compute the $C_{ls}$ with ReMASTERED python routine"
   ]
  },
  {
   "cell_type": "markdown",
   "id": "24de413c",
   "metadata": {},
   "source": [
    "4. In this section we are going to compute the errors\\\n",
    "This will be done generating 50 cmb maps with theoretical $D_{ls}$ supplied by $\\Lambda CDM$ throughout CAMB and Healpy python routine."
   ]
  },
  {
   "cell_type": "code",
   "execution_count": 1,
   "id": "74f377a2",
   "metadata": {},
   "outputs": [],
   "source": [
    "# Importing libraries\n",
    "%matplotlib inline\n",
    "%config InlineBackend.figure_format = 'retina'\n",
    "import sys, platform, os\n",
    "import matplotlib\n",
    "from matplotlib import pyplot as plt\n",
    "import numpy as np"
   ]
  },
  {
   "cell_type": "code",
   "execution_count": 2,
   "id": "22f48607",
   "metadata": {},
   "outputs": [
    {
     "name": "stdout",
     "output_type": "stream",
     "text": [
      "Using CAMB 1.3.5 installed at /home/akozameh/miniconda3/envs/CMB/lib/python3.10/site-packages/camb\n"
     ]
    }
   ],
   "source": [
    "camb_path = os.path.realpath(os.path.join(os.getcwd(),'..'))\n",
    "sys.path.insert(0,camb_path)\n",
    "import camb\n",
    "from camb import model, initialpower, correlations\n",
    "print('Using CAMB %s installed at %s'%(camb.__version__,os.path.dirname(camb.__file__)))"
   ]
  },
  {
   "cell_type": "code",
   "execution_count": 3,
   "id": "6451685a",
   "metadata": {},
   "outputs": [],
   "source": [
    "#Calculate results for specified parameters and return CAMBdata instance for getting results.\n",
    "pars = camb.CAMBparams()\n",
    "pars.set_cosmology(H0=67.66, ombh2=0.02242, omch2=0.11933, mnu=0.06, omk=0.001, tau=0.0561)\n",
    "pars.InitPower.set_params(As=2.105e-9, ns=0.9665, r=0)\n",
    "pars.set_for_lmax(2500, lens_potential_accuracy=0);"
   ]
  },
  {
   "cell_type": "code",
   "execution_count": 4,
   "id": "af86ca64",
   "metadata": {},
   "outputs": [],
   "source": [
    "#calculate results for these parameters\n",
    "results = camb.get_results(pars)"
   ]
  },
  {
   "cell_type": "code",
   "execution_count": 5,
   "id": "5575a056",
   "metadata": {},
   "outputs": [
    {
     "name": "stdout",
     "output_type": "stream",
     "text": [
      "total\n",
      "unlensed_scalar\n",
      "unlensed_total\n",
      "lensed_scalar\n",
      "tensor\n",
      "lens_potential\n"
     ]
    }
   ],
   "source": [
    "#Set all CAMB parameters at once, including parameters which are part of the CAMBparams structure, as well as global parameters.\n",
    "powers =results.get_cmb_power_spectra(pars, CMB_unit='muK')\n",
    "for name in powers: print(name)"
   ]
  },
  {
   "cell_type": "code",
   "execution_count": 6,
   "id": "ac500b31",
   "metadata": {},
   "outputs": [
    {
     "name": "stdout",
     "output_type": "stream",
     "text": [
      "(2551, 4)\n"
     ]
    }
   ],
   "source": [
    "totCL=powers['total']\n",
    "unlensedCL=powers['unlensed_scalar']\n",
    "print(totCL.shape)\n",
    "#Python CL arrays are all zero based (starting at L=0), Note L=0,1 entries will be zero by default.\n",
    "#The different CL are always in the order TT, EE, BB, TE (with BB=0 for unlensed scalar results).\n",
    "ls = np.arange(totCL.shape[0])"
   ]
  },
  {
   "cell_type": "code",
   "execution_count": 7,
   "id": "16b56f52",
   "metadata": {},
   "outputs": [
    {
     "name": "stderr",
     "output_type": "stream",
     "text": [
      "\n",
      "WARNING: version mismatch between CFITSIO header (v4.000999999999999) and linked library (v4.01).\n",
      "\n",
      "\n",
      "WARNING: version mismatch between CFITSIO header (v4.000999999999999) and linked library (v4.01).\n",
      "\n",
      "\n",
      "WARNING: version mismatch between CFITSIO header (v4.000999999999999) and linked library (v4.01).\n",
      "\n"
     ]
    }
   ],
   "source": [
    "# import healpy\n",
    "import healpy as hp"
   ]
  },
  {
   "cell_type": "code",
   "execution_count": null,
   "id": "aeec6b58",
   "metadata": {},
   "outputs": [
    {
     "name": "stdout",
     "output_type": "stream",
     "text": [
      "mapa #34..."
     ]
    }
   ],
   "source": [
    "# Generating Nmaps cmb maps\n",
    "Nmaps = 50\n",
    "lmax  = 2500\n",
    "nside = 2048\n",
    "\n",
    "mapa_cl = np.zeros((Nmaps,50331648),np.float32)\n",
    "for i in range(Nmaps):\n",
    "    print(\"\\rmapa #%d...\"%i,end='')\n",
    "    mapa_cl[i] = hp.sphtfunc.synfast(totCL[:,0], nside=nside, lmax =lmax, fwhm=np.radians(5/60))\n",
    "print(\"listo!\")"
   ]
  },
  {
   "cell_type": "code",
   "execution_count": null,
   "id": "fb043732",
   "metadata": {},
   "outputs": [],
   "source": []
  }
 ],
 "metadata": {
  "kernelspec": {
   "display_name": "Python 3 (ipykernel)",
   "language": "python",
   "name": "python3"
  },
  "language_info": {
   "codemirror_mode": {
    "name": "ipython",
    "version": 3
   },
   "file_extension": ".py",
   "mimetype": "text/x-python",
   "name": "python",
   "nbconvert_exporter": "python",
   "pygments_lexer": "ipython3",
   "version": "3.10.4"
  }
 },
 "nbformat": 4,
 "nbformat_minor": 5
}
