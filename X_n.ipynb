{
 "cells": [
  {
   "cell_type": "markdown",
   "id": "62e82a6d",
   "metadata": {},
   "source": [
    "# I compute the track of the neutrons to barions ratio"
   ]
  },
  {
   "cell_type": "code",
   "execution_count": 18,
   "id": "bc8d8239",
   "metadata": {},
   "outputs": [],
   "source": [
    "import numpy as np\n",
    "import matplotlib.pyplot as plt\n",
    "from scipy.integrate import solve_ivp"
   ]
  },
  {
   "cell_type": "code",
   "execution_count": 19,
   "id": "c6dddbe3",
   "metadata": {},
   "outputs": [],
   "source": [
    "def f(x, y):\n",
    "  T = 1.293 / x  # x is given by 1.293 MeV / T\n",
    "  t = 132 * (0.1 * x / 1.293) ** 2\n",
    "  tau = 885\n",
    "  n_b = 1.12e-5\n",
    "  eta_b =6.0e-8 #ratio of barions to photons\n",
    "  k=1.787e-8 #constants\n",
    "  decay_factor = np.exp(-t / tau)\n",
    "  return  decay_factor*((1 / x ** 5) * 255 * (12 + 6 * x + x ** 2) / (885.7*np.sqrt(k)*(n_b/eta_b)**(3/4))) * (np.exp(-x) - y* (1 + np.exp(-x)))"
   ]
  },
  {
   "cell_type": "code",
   "execution_count": null,
   "id": "e47dc07f",
   "metadata": {},
   "outputs": [],
   "source": [
    "t=(0.03,20)\n",
    "y0=1\n",
    "sol=solve_ivp(f,t,[y0], method='RK45', dense_output=True)"
   ]
  },
  {
   "cell_type": "code",
   "execution_count": null,
   "id": "2afffadf",
   "metadata": {},
   "outputs": [],
   "source": [
    "_# Get the solution\n",
    "x=sol.t\n",
    "X_n=sol.y\n"
   ]
  },
  {
   "cell_type": "code",
   "execution_count": null,
   "id": "de382b10",
   "metadata": {},
   "outputs": [],
   "source": [
    "# Plot the solution\n",
    "# Define the values of nb and ηb\n",
    "nb_value = 1.12e-5  # Replace with the actual value\n",
    "eta_b_value = 6.0e-8  # Replace with the actual value\n",
    "\n",
    "\n",
    "plt.figure(figsize=(12, 8))\n",
    "plt.plot(x, X_n.T)\n",
    "plt.xscale('log')\n",
    "plt.xlim(0.03, 20)\n",
    "#plt.ylim(0.0, 1)\n",
    "plt.xlabel('x')\n",
    "plt.ylabel('X_n')\n",
    "plt.title('Abundance of neutron')\n",
    "# Add equation to plot\n",
    "equation_text =(\n",
    "        r\"$\\frac{{dx}}{{dy}} = \\frac{{1}}{{x^5}} \\cdot 255 \\cdot \\frac{{12 + 6x + x^2}}{{885.7 \\cdot  \\sqrt{\\frac{8 \\pi G n_b}{3 \\eta_b}}}} \\cdot (\\exp(-x) - X_n \\cdot (1 + \\exp(-x))) \\cdot \\exp\\left(-\\frac{{132 \\cdot (0.1 \\cdot x / 1.293)^2}}{{885}}\\right)$\"\n",
    "        f\"\\n\\n$ n_b = {nb_value}, \\eta_b = {eta_b_value}$\"\n",
    ")\n",
    "plt.text(0.1, 0.8, equation_text, fontsize=15, transform=plt.gca().transAxes)\n",
    "\n",
    "plt.show()"
   ]
  },
  {
   "cell_type": "code",
   "execution_count": null,
   "id": "e428995b",
   "metadata": {},
   "outputs": [],
   "source": []
  }
 ],
 "metadata": {
  "kernelspec": {
   "display_name": "Python 3 (ipykernel)",
   "language": "python",
   "name": "python3"
  },
  "language_info": {
   "codemirror_mode": {
    "name": "ipython",
    "version": 3
   },
   "file_extension": ".py",
   "mimetype": "text/x-python",
   "name": "python",
   "nbconvert_exporter": "python",
   "pygments_lexer": "ipython3",
   "version": "3.10.4"
  }
 },
 "nbformat": 4,
 "nbformat_minor": 5
}
