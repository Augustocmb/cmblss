{
 "cells": [
  {
   "cell_type": "code",
   "execution_count": 1,
   "id": "8ce8850a",
   "metadata": {},
   "outputs": [
    {
     "name": "stdout",
     "output_type": "stream",
     "text": [
      "GetDist Version: 1.5.1, Matplotlib version: 3.5.1\n"
     ]
    }
   ],
   "source": [
    "from main import *"
   ]
  },
  {
   "cell_type": "markdown",
   "id": "874d6490",
   "metadata": {},
   "source": [
    "I am following the Cobaya's example for a cosmological likelihood"
   ]
  },
  {
   "cell_type": "markdown",
   "id": "276d110f",
   "metadata": {},
   "source": [
    "First of all, we will need to simulate the fictitious power spectrum of the fictitious sky that we would measure with our fictitious experiment, once we have accounted for noise and beam corrections. To do that, we choose a set of true cosmological parameters in the sky, and then use a model \n",
    "to compute the corresponding power spectrum, up to some reasonable $ \\ell_{max}$"
   ]
  },
  {
   "cell_type": "code",
   "execution_count": 24,
   "id": "2ded8367",
   "metadata": {},
   "outputs": [],
   "source": [
    "%matplotlib inline"
   ]
  },
  {
   "cell_type": "code",
   "execution_count": 4,
   "id": "5c9e52e7",
   "metadata": {},
   "outputs": [],
   "source": [
    "fiducial_params = {\n",
    "    'ombh2': 0.022, 'omch2': 0.12, 'H0': 68, 'tau': 0.07,\n",
    "    'As': 2.2e-9, 'ns': 0.96,\n",
    "    'mnu': 0.06, 'nnu': 3.046}\n",
    "l_max = 1000\n",
    "packages_path = '/path/to/your/packages'\n",
    "info_fiducial = {\n",
    "    'params': fiducial_params,\n",
    "    'likelihood': {'one': None},\n",
    "    'theory': {'camb': {\"extra_args\": {\"num_massive_neutrinos\": 1}}},\n",
    "    'packages_path': packages_path}\n"
   ]
  },
  {
   "cell_type": "code",
   "execution_count": 5,
   "id": "a8e04516",
   "metadata": {},
   "outputs": [
    {
     "name": "stdout",
     "output_type": "stream",
     "text": [
      "[camb] `camb` module loaded successfully from /home/akozameh/miniconda3/envs/CMB/lib/python3.10/site-packages/camb\n",
      "[model] *WARNING* Theories {camb, camb.transfers} do not appear to be actually used for anything\n"
     ]
    }
   ],
   "source": [
    "from cobaya.model import get_model\n",
    "model_fiducial = get_model(info_fiducial)"
   ]
  },
  {
   "cell_type": "code",
   "execution_count": 6,
   "id": "e50cb99d",
   "metadata": {},
   "outputs": [],
   "source": [
    "# Declare our desired theory product\n",
    "# (there is no cosmological likelihood doing it for us)\n",
    "model_fiducial.add_requirements({\"Cl\": {'tt': l_max}})"
   ]
  },
  {
   "cell_type": "code",
   "execution_count": 7,
   "id": "53c10878",
   "metadata": {},
   "outputs": [],
   "source": [
    "# Compute and extract the CMB power spectrum\n",
    "# (In muK^-2, without l(l+1)/(2pi) factor)\n",
    "# notice the empty dictionary below: all parameters are fixed\n",
    "model_fiducial.logposterior({})\n",
    "Cls = model_fiducial.provider.get_Cl(ell_factor=False, units=\"muK2\")"
   ]
  },
  {
   "cell_type": "code",
   "execution_count": 8,
   "id": "e0c72560",
   "metadata": {},
   "outputs": [],
   "source": [
    "# Our fiducial power spectrum\n",
    "Cl_est = Cls['tt'][:l_max + 1]"
   ]
  },
  {
   "cell_type": "code",
   "execution_count": 26,
   "id": "9401b1b5",
   "metadata": {},
   "outputs": [],
   "source": [
    "import numpy as np\n",
    "import matplotlib.pyplot as plt\n",
    "\n",
    "_do_plot = True  # Set to True to allow plotting\n",
    "_plot_name = \"plot.png\"  # Ensure you have a name for the output plot\n",
    "\n",
    "def my_like(\n",
    "        # Parameters that we may sample over (or not)\n",
    "        noise_std_pixel=20,  # muK\n",
    "        beam_FWHM=0.25,  # deg\n",
    "        # Keyword through which the cobaya likelihood instance will be passed.\n",
    "        _self=None):\n",
    "    # Noise spectrum, beam-corrected\n",
    "    healpix_Nside = 512\n",
    "    pixel_area_rad = np.pi / (3 * healpix_Nside ** 2)\n",
    "    weight_per_solid_angle = (noise_std_pixel ** 2 * pixel_area_rad) ** -1\n",
    "    beam_sigma_rad = beam_FWHM / np.sqrt(8 * np.log(2)) * np.pi / 180.\n",
    "    l_max = 1000  # Example value for l_max, make sure this is defined\n",
    "    ells = np.arange(l_max + 1)\n",
    "    Nl = np.exp((ells * beam_sigma_rad) ** 2) / weight_per_solid_angle\n",
    "    # Cl of the map: data + noise\n",
    "    Cl_est = np.ones_like(ells)  # Placeholder for your actual Cl_est values\n",
    "    Cl_map = Cl_est + Nl\n",
    "    # Request the Cl from the provider\n",
    "    Cl_theo = _self.provider.get_Cl(ell_factor=False, units=\"muK2\")['tt'][:l_max + 1]\n",
    "    Cl_map_theo = Cl_theo + Nl\n",
    "    # Auxiliary plot\n",
    "    if _do_plot:\n",
    "        ell_factor = ells * (ells + 1) / (2 * np.pi)\n",
    "        plt.figure()\n",
    "        plt.plot(ells[2:], (Cl_theo * ell_factor)[2:], label=r'Theory $C_\\ell$')\n",
    "        plt.plot(ells[2:], (Cl_est * ell_factor)[2:], label=r'Estimated $C_\\ell$', ls=\"--\")\n",
    "        plt.plot(ells[2:], (Cl_map * ell_factor)[2:], label=r'Map $C_\\ell$')\n",
    "        plt.plot(ells[2:], (Nl * ell_factor)[2:], label='Noise')\n",
    "        plt.legend()\n",
    "        plt.ylim([0, 1000])\n",
    "        plt.savefig('plot_aug.png')\n",
    "        plt.show()\n",
    "    # ----------------\n",
    "    # Compute the log-likelihood\n",
    "    V = Cl_map[2:] / Cl_map_theo[2:]\n",
    "    logp = np.sum((2 * ells[2:] + 1) * (-V / 2 + 1 / 2. * np.log(V)))\n",
    "    # Set our derived parameter\n",
    "    derived = {'Map_Cl_at_500': Cl_map[500]}\n",
    "    return logp, derived\n"
   ]
  },
  {
   "cell_type": "code",
   "execution_count": 31,
   "id": "727bf763",
   "metadata": {},
   "outputs": [
    {
     "ename": "IndentationError",
     "evalue": "unexpected indent (2614391243.py, line 23)",
     "output_type": "error",
     "traceback": [
      "\u001b[0;36m  Input \u001b[0;32mIn [31]\u001b[0;36m\u001b[0m\n\u001b[0;31m    \"sampler\": {\u001b[0m\n\u001b[0m    ^\u001b[0m\n\u001b[0;31mIndentationError\u001b[0m\u001b[0;31m:\u001b[0m unexpected indent\n"
     ]
    }
   ],
   "source": [
    "info = {\n",
    "    'params': {\n",
    "        # Fixed\n",
    "        'ombh2': 0.022, 'omch2': 0.12, 'H0': 68, 'tau': 0.07,\n",
    "        'mnu': 0.06, 'nnu': 3.046,\n",
    "        # Sampled\n",
    "        'As': {'prior': {'min': 1e-9, 'max': 4e-9}, 'latex': 'A_s'},\n",
    "        'ns': {'prior': {'min': 0.9, 'max': 1.1}, 'latex': 'n_s'},\n",
    "        'noise_std_pixel': {\n",
    "            'prior': {'dist': 'norm', 'loc': 20, 'scale': 5},\n",
    "            'latex': r'\\sigma_\\mathrm{pix}'},\n",
    "        # Derived\n",
    "        'Map_Cl_at_500': {'latex': r'C_{500,\\,\\mathrm{map}}'}},\n",
    "    'likelihood': {'my_cl_like': {\n",
    "        \"external\": my_like,\n",
    "        # Declare required quantities!\n",
    "        \"requires\": {'Cl': {'tt': l_max}},\n",
    "        # Declare derived parameters!\n",
    "        \"output_params\": ['Map_Cl_at_500']}},\n",
    "    'theory': {'camb': {'stop_at_error': True}},\n",
    "    'packages_path': packages_path},\n",
    "    # sampler\n",
    "    \"sampler\": {\n",
    "        \"mcmc\": {\"Rminus1_stop\": 0.001, \"max_tries\": 10000}}}\n"
   ]
  },
  {
   "cell_type": "code",
   "execution_count": 28,
   "id": "9355bfde",
   "metadata": {},
   "outputs": [
    {
     "name": "stdout",
     "output_type": "stream",
     "text": [
      "[run] *ERROR* You need to specify a sampler using the 'sampler' key as e.g. `sampler: {mcmc: None}.`\n"
     ]
    },
    {
     "ename": "LoggedError",
     "evalue": "You need to specify a sampler using the 'sampler' key as e.g. `sampler: {mcmc: None}.`",
     "output_type": "error",
     "traceback": [
      "\u001b[0;31m---------------------------------------------------------------------------\u001b[0m",
      "\u001b[0;31mKeyError\u001b[0m                                  Traceback (most recent call last)",
      "File \u001b[0;32m~/miniconda3/envs/CMB/lib/python3.10/site-packages/cobaya/run.py:71\u001b[0m, in \u001b[0;36mrun\u001b[0;34m(info_or_yaml_or_file, packages_path, output, debug, stop_at_error, resume, force, minimize, no_mpi, test, override)\u001b[0m\n\u001b[1;32m     70\u001b[0m \u001b[38;5;28;01mtry\u001b[39;00m:\n\u001b[0;32m---> 71\u001b[0m     which_sampler \u001b[38;5;241m=\u001b[39m \u001b[38;5;28mlist\u001b[39m(\u001b[43minfo\u001b[49m\u001b[43m[\u001b[49m\u001b[38;5;124;43m\"\u001b[39;49m\u001b[38;5;124;43msampler\u001b[39;49m\u001b[38;5;124;43m\"\u001b[39;49m\u001b[43m]\u001b[49m)[\u001b[38;5;241m0\u001b[39m]\n\u001b[1;32m     72\u001b[0m     \u001b[38;5;28;01mif\u001b[39;00m info\u001b[38;5;241m.\u001b[39mget(\u001b[38;5;124m\"\u001b[39m\u001b[38;5;124mminimize\u001b[39m\u001b[38;5;124m\"\u001b[39m):  \u001b[38;5;66;03m# type: ignore\u001b[39;00m\n\u001b[1;32m     73\u001b[0m         \u001b[38;5;66;03m# Preserve options if \"minimize\" was already the sampler\u001b[39;00m\n",
      "\u001b[0;31mKeyError\u001b[0m: 'sampler'",
      "\nThe above exception was the direct cause of the following exception:\n",
      "\u001b[0;31mLoggedError\u001b[0m                               Traceback (most recent call last)",
      "Input \u001b[0;32mIn [28]\u001b[0m, in \u001b[0;36m<cell line: 2>\u001b[0;34m()\u001b[0m\n\u001b[1;32m      1\u001b[0m \u001b[38;5;28;01mfrom\u001b[39;00m \u001b[38;5;21;01mcobaya\u001b[39;00m \u001b[38;5;28;01mimport\u001b[39;00m run\n\u001b[0;32m----> 2\u001b[0m updated_info, sampler \u001b[38;5;241m=\u001b[39m \u001b[43mrun\u001b[49m\u001b[43m \u001b[49m\u001b[43m(\u001b[49m\u001b[43minfo\u001b[49m\u001b[43m)\u001b[49m\n",
      "File \u001b[0;32m~/miniconda3/envs/CMB/lib/python3.10/site-packages/cobaya/run.py:79\u001b[0m, in \u001b[0;36mrun\u001b[0;34m(info_or_yaml_or_file, packages_path, output, debug, stop_at_error, resume, force, minimize, no_mpi, test, override)\u001b[0m\n\u001b[1;32m     77\u001b[0m \u001b[38;5;28;01mexcept\u001b[39;00m (\u001b[38;5;167;01mKeyError\u001b[39;00m, \u001b[38;5;167;01mTypeError\u001b[39;00m) \u001b[38;5;28;01mas\u001b[39;00m excpt:\n\u001b[1;32m     78\u001b[0m     \u001b[38;5;28;01mif\u001b[39;00m \u001b[38;5;129;01mnot\u001b[39;00m info\u001b[38;5;241m.\u001b[39mget(\u001b[38;5;124m\"\u001b[39m\u001b[38;5;124mpost\u001b[39m\u001b[38;5;124m\"\u001b[39m):\n\u001b[0;32m---> 79\u001b[0m         \u001b[38;5;28;01mraise\u001b[39;00m LoggedError(\n\u001b[1;32m     80\u001b[0m             logger_run,\n\u001b[1;32m     81\u001b[0m             \u001b[38;5;124m\"\u001b[39m\u001b[38;5;124mYou need to specify a sampler using the \u001b[39m\u001b[38;5;124m'\u001b[39m\u001b[38;5;124msampler\u001b[39m\u001b[38;5;124m'\u001b[39m\u001b[38;5;124m key \u001b[39m\u001b[38;5;124m\"\u001b[39m\n\u001b[1;32m     82\u001b[0m             \u001b[38;5;124m\"\u001b[39m\u001b[38;5;124mas e.g. `sampler: \u001b[39m\u001b[38;5;124m{\u001b[39m\u001b[38;5;124mmcmc: None}.`\u001b[39m\u001b[38;5;124m\"\u001b[39m) \u001b[38;5;28;01mfrom\u001b[39;00m \u001b[38;5;21;01mexcpt\u001b[39;00m\n\u001b[1;32m     83\u001b[0m \u001b[38;5;28;01mif\u001b[39;00m info\u001b[38;5;241m.\u001b[39mget(\u001b[38;5;124m\"\u001b[39m\u001b[38;5;124mpost\u001b[39m\u001b[38;5;124m\"\u001b[39m):\n\u001b[1;32m     84\u001b[0m     \u001b[38;5;28;01mif\u001b[39;00m \u001b[38;5;28misinstance\u001b[39m(output, \u001b[38;5;28mstr\u001b[39m) \u001b[38;5;129;01mor\u001b[39;00m output \u001b[38;5;129;01mis\u001b[39;00m \u001b[38;5;28;01mFalse\u001b[39;00m:\n",
      "\u001b[0;31mLoggedError\u001b[0m: You need to specify a sampler using the 'sampler' key as e.g. `sampler: {mcmc: None}.`"
     ]
    }
   ],
   "source": [
    "from cobaya import run\n",
    "updated_info, sampler = run (info)"
   ]
  },
  {
   "cell_type": "code",
   "execution_count": null,
   "id": "9a03aac8",
   "metadata": {},
   "outputs": [],
   "source": []
  }
 ],
 "metadata": {
  "kernelspec": {
   "display_name": "Python 3 (ipykernel)",
   "language": "python",
   "name": "python3"
  },
  "language_info": {
   "codemirror_mode": {
    "name": "ipython",
    "version": 3
   },
   "file_extension": ".py",
   "mimetype": "text/x-python",
   "name": "python",
   "nbconvert_exporter": "python",
   "pygments_lexer": "ipython3",
   "version": "3.10.4"
  }
 },
 "nbformat": 4,
 "nbformat_minor": 5
}
