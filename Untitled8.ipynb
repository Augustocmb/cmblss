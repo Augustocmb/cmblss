{
 "cells": [
  {
   "cell_type": "code",
   "execution_count": 1,
   "id": "3654f97e",
   "metadata": {},
   "outputs": [],
   "source": [
    "import numpy as np\n",
    "from scipy.integrate import quad"
   ]
  },
  {
   "cell_type": "code",
   "execution_count": 2,
   "id": "99639303",
   "metadata": {},
   "outputs": [],
   "source": [
    "def fun(x, w0, H_i):\n",
    "    def integrand(t):\n",
    "        return ( 3 * (1+w(w0, t)) ) / ( 1+t )\n",
    "    \n",
    "    result, _ = quad(integrand, np.inf, x)\n",
    "    return result + 2*np.log(H_i)"
   ]
  },
  {
   "cell_type": "code",
   "execution_count": 5,
   "id": "c60b047a",
   "metadata": {},
   "outputs": [
    {
     "ename": "NameError",
     "evalue": "name 'result' is not defined",
     "output_type": "error",
     "traceback": [
      "\u001b[0;31m---------------------------------------------------------------------------\u001b[0m",
      "\u001b[0;31mNameError\u001b[0m                                 Traceback (most recent call last)",
      "Input \u001b[0;32mIn [5]\u001b[0m, in \u001b[0;36m<cell line: 1>\u001b[0;34m()\u001b[0m\n\u001b[0;32m----> 1\u001b[0m \u001b[43mresult\u001b[49m, _\n",
      "\u001b[0;31mNameError\u001b[0m: name 'result' is not defined"
     ]
    }
   ],
   "source": [
    "result, _"
   ]
  },
  {
   "cell_type": "code",
   "execution_count": null,
   "id": "105fff47",
   "metadata": {},
   "outputs": [],
   "source": []
  }
 ],
 "metadata": {
  "kernelspec": {
   "display_name": "Python 3 (ipykernel)",
   "language": "python",
   "name": "python3"
  },
  "language_info": {
   "codemirror_mode": {
    "name": "ipython",
    "version": 3
   },
   "file_extension": ".py",
   "mimetype": "text/x-python",
   "name": "python",
   "nbconvert_exporter": "python",
   "pygments_lexer": "ipython3",
   "version": "3.10.4"
  }
 },
 "nbformat": 4,
 "nbformat_minor": 5
}
