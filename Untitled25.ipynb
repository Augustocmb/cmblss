{
 "cells": [
  {
   "cell_type": "code",
   "execution_count": 1,
   "id": "c19a101e",
   "metadata": {},
   "outputs": [
    {
     "name": "stdout",
     "output_type": "stream",
     "text": [
      "iminuit version: 2.26.0\n"
     ]
    }
   ],
   "source": [
    "import numpy as np\n",
    "import scipy.stats as stats\n",
    "from scipy.stats import truncexpon\n",
    "from scipy.stats import truncnorm\n",
    "from scipy.stats import chi2\n",
    "import iminuit\n",
    "from iminuit import Minuit\n",
    "import matplotlib.pyplot as plt\n",
    "from matplotlib import container\n",
    "plt.rcParams[\"font.size\"] = 14\n",
    "print(\"iminuit version:\", iminuit.__version__) # need 2.x"
   ]
  },
  {
   "cell_type": "code",
   "execution_count": 2,
   "id": "3ea7662b",
   "metadata": {},
   "outputs": [],
   "source": [
    "# define pdf and generate data\n",
    "np.random.seed(seed=1234567) # fix random seed\n",
    "theta = 0.2 # fraction of signal\n",
    "mu = 10. # mean of Gaussian\n",
    "sigma = 2. # std. dev. of Gaussian\n",
    "xi = 5. # mean of exponential\n",
    "xMin = 0.\n",
    "xMax = 20."
   ]
  },
  {
   "cell_type": "code",
   "execution_count": 4,
   "id": "5cb157bc",
   "metadata": {},
   "outputs": [],
   "source": [
    "def f(x, par):\n",
    "    theta = par[0]\n",
    "    mu = par[1]\n",
    "    sigma = par[2]\n",
    "    xi = par[3]\n",
    "    fs = stats.truncnorm.pdf(x, a=(xMin-mu)/sigma, b=(xMax-mu)/sigma,\n",
    "    loc=mu, scale=sigma)\n",
    "    fb = stats.truncexpon.pdf(x, b=(xMax-xMin)/xi, loc=xMin, scale=xi)\n",
    "    return theta*fs + (1-theta)*fb"
   ]
  },
  {
   "cell_type": "code",
   "execution_count": 6,
   "id": "b15585c5",
   "metadata": {},
   "outputs": [],
   "source": [
    "# Generate the data\n",
    "numVal = 200\n",
    "xData = np.empty([numVal])\n",
    "for i in range (numVal):\n",
    "    r = np.random.uniform();\n",
    "if r < theta:\n",
    "    xData[i] = stats.truncnorm.rvs(a=(xMin-mu)/sigma, b=(xMax-mu)/sigma,\n",
    "    loc=mu, scale=sigma)\n",
    "else:\n",
    "    xData[i] = stats.truncexpon.rvs(b=(xMax-xMin)/xi, loc=xMin,scale=xi)"
   ]
  },
  {
   "cell_type": "code",
   "execution_count": 8,
   "id": "1af1457e",
   "metadata": {},
   "outputs": [],
   "source": [
    "# Function to be minimized is negative log-likelihood\n",
    "def negLogL(par):\n",
    "    pdf = f(xData, par)\n",
    "    return -np.sum(np.log(pdf))"
   ]
  },
  {
   "cell_type": "code",
   "execution_count": 11,
   "id": "12844624",
   "metadata": {},
   "outputs": [],
   "source": [
    "# Initialize Minuit and set up fit:\n",
    "parin = np.array([theta, mu, sigma, xi]) # initial values (here = true values)"
   ]
  },
  {
   "cell_type": "code",
   "execution_count": 12,
   "id": "4aaccad6",
   "metadata": {},
   "outputs": [],
   "source": [
    "parname = ['theta', 'mu', 'sigma', 'xi']\n",
    "parname_latex = [r'$\\theta$', r'$\\mu$', r'$\\sigma$', r'$\\xi$']"
   ]
  },
  {
   "cell_type": "code",
   "execution_count": 13,
   "id": "2212bd40",
   "metadata": {},
   "outputs": [],
   "source": [
    "parstep = np.array([0.1, 1., 1., 1.]) # initial setp sizes\n",
    "parfix = [False, True, True, False]"
   ]
  },
  {
   "cell_type": "code",
   "execution_count": 14,
   "id": "6599c292",
   "metadata": {},
   "outputs": [],
   "source": [
    "parlim = [(0.,1), (None, None), (0., None), (0., None)] # set limits\n",
    "m = Minuit(negLogL, parin, name=parname)\n",
    "m.errors = parstep\n",
    "m.fixed = parfix\n",
    "m.limits = parlim\n",
    "m.errordef = 0.5 "
   ]
  },
  {
   "cell_type": "code",
   "execution_count": 17,
   "id": "0ee1b9c6",
   "metadata": {},
   "outputs": [
    {
     "name": "stdout",
     "output_type": "stream",
     "text": [
      "E VariableMetricBuilder Initial matrix not pos.def.\n",
      "par index, name, estimate, standard deviation:\n",
      "   0 theta       =  0.200000  +/-  0.035465\n",
      "   3 xi          =  0.040780  +/-  nan\n",
      "\n",
      "free par indices, covariance, correlation coeff.:\n",
      "0 0 0.001261 1.000000\n",
      "0 3 0.000000 nan\n",
      "3 0 0.000000 nan\n",
      "3 3 -0.000016 nan\n"
     ]
    },
    {
     "name": "stderr",
     "output_type": "stream",
     "text": [
      "/home/akozameh/miniconda3/envs/CMB/lib/python3.10/site-packages/iminuit/util.py:362: RuntimeWarning: invalid value encountered in sqrt\n",
      "  d = np.diag(a) ** 0.5\n"
     ]
    }
   ],
   "source": [
    "# Do the fit, get errors, extract results\n",
    "m.migrad() # minimize -logL\n",
    "MLE = m.values # max-likelihood estimates\n",
    "sigmaMLE = m.errors # standard deviations\n",
    "cov = m.covariance # covariance matrix\n",
    "rho = m.covariance.correlation() # correlation coeffs.\n",
    "print(r\"par index, name, estimate, standard deviation:\")\n",
    "for i in range(m.npar):\n",
    "    if not m.fixed[i]:\n",
    "        print(\"{:4d}\".format(i), \"{:<10s}\".format(m.parameters[i]), \" = \",\"{:.6f}\".format(MLE[i]), \" +/- \", \"{:.6f}\".format(sigmaMLE[i]))\n",
    "print()\n",
    "print(r\"free par indices, covariance, correlation coeff.:\")\n",
    "for i in range(m.npar):\n",
    "    if not(m.fixed[i]):\n",
    "        for j in range(m.npar):\n",
    "            if not(m.fixed[j]):\n",
    "                print(i, j, \"{:.6f}\".format(cov[i,j]),\"{:.6f}\".format(rho[i,j]))"
   ]
  },
  {
   "cell_type": "code",
   "execution_count": null,
   "id": "29e49e9e",
   "metadata": {},
   "outputs": [],
   "source": []
  }
 ],
 "metadata": {
  "kernelspec": {
   "display_name": "Python 3 (ipykernel)",
   "language": "python",
   "name": "python3"
  },
  "language_info": {
   "codemirror_mode": {
    "name": "ipython",
    "version": 3
   },
   "file_extension": ".py",
   "mimetype": "text/x-python",
   "name": "python",
   "nbconvert_exporter": "python",
   "pygments_lexer": "ipython3",
   "version": "3.10.4"
  }
 },
 "nbformat": 4,
 "nbformat_minor": 5
}
