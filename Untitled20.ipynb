{
 "cells": [
  {
   "cell_type": "code",
   "execution_count": null,
   "id": "9f235a7c",
   "metadata": {},
   "outputs": [],
   "source": [
    "# Examples using PolSpice"
   ]
  },
  {
   "cell_type": "code",
   "execution_count": 1,
   "id": "48637057",
   "metadata": {},
   "outputs": [
    {
     "name": "stderr",
     "output_type": "stream",
     "text": [
      "\n",
      "WARNING: version mismatch between CFITSIO header (v4.000999999999999) and linked library (v4.01).\n",
      "\n",
      "\n",
      "WARNING: version mismatch between CFITSIO header (v4.000999999999999) and linked library (v4.01).\n",
      "\n",
      "\n",
      "WARNING: version mismatch between CFITSIO header (v4.000999999999999) and linked library (v4.01).\n",
      "\n"
     ]
    }
   ],
   "source": [
    "# Importing libraries\n",
    "import numpy as np\n",
    "import healpy as hp\n",
    "import matplotlib.pyplot as plt"
   ]
  },
  {
   "cell_type": "code",
   "execution_count": 8,
   "id": "67885df6",
   "metadata": {},
   "outputs": [],
   "source": [
    "import ispice as spice"
   ]
  },
  {
   "cell_type": "code",
   "execution_count": 3,
   "id": "96c34ff5",
   "metadata": {},
   "outputs": [
    {
     "name": "stdout",
     "output_type": "stream",
     "text": [
      "Help on function ispice in module ispice:\n",
      "\n",
      "ispice(mapin1, clout, nlmax=-1, alm1fileout='', alm2fileout='', alm1weightin='', alm2weightin='', apodizetype=0, apodizesigma='NO', beam1='NO', beam2='NO', beam_file1='', beam_file2='', binpath='', cl_inmap_file='', cl_inmask_file='', cl_outmap_file='', cl_outmask_file='', corfile='', covfileout='', decouple='NO', extramapfile1='', extramapfile2='', fits_out='YES', kernelsfileout='', mapfile2='', maskfile1='', maskfile2='', maskfilep1='', maskfilep2='', noiseclfile='', noisecorfile='', normfac=1.0, omp_num_threads=32, pixelfile='YES', pixelfile2='YES', polarization='NO', subav='NO', subdipole='NO', symmetric_cl='NO', tenormfilein='', tenormfileout='', tf_file='', thetamax='NO', tolerance='NO', verbosity=2, weightfile1='', weightfilep1='', weightfile2='', weightfilep2='', weightpower1=1.0, weightpower2=1.0, weightpowerp1=1.0, weightpowerp2=1.0, windowfilein='', windowfileout='', label='spice', submit=None)\n",
      "    ispice(mapin1, clout, nlmax=-1,\n",
      "       alm1fileout=\"\",\n",
      "       alm2fileout=\"\",\n",
      "       alm1weightin=\"\",\n",
      "       alm2weightin=\"\",\n",
      "       apodizetype=0, \n",
      "       apodizesigma=\"NO\", \n",
      "       beam1=\"NO\", beam2=\"NO\", \n",
      "       beam_file1=\"\", beam_file2=\"\",\n",
      "       binpath=\"\",\n",
      "       cl_inmap_file=\"\", \n",
      "       cl_inmask_file=\"\", \n",
      "       cl_outmap_file=\"\", \n",
      "       cl_outmask_file=\"\", \n",
      "       covfileout=\"\", \n",
      "       corfile=\"\", \n",
      "       decouple=\"NO\", \n",
      "       extramapfile1=\"\", extramapfile2=\"\", \n",
      "       fits_out=\"YES\", \n",
      "       kernelsfileout=\"\", \n",
      "       mapfile2=\"\", \n",
      "       maskfile1=\"\", maskfile2=\"\", maskfilep1=\"\", maskfilep2=\"\",\n",
      "       noiseclfile=\"\", \n",
      "       noisecorfile=\"\", \n",
      "       normfac=\"\", \n",
      "       omp_num_threads=32,\n",
      "       pixelfile=\"YES\", pixelfile2=\"YES\", polarization=\"NO\", \n",
      "       subav=\"NO\", \n",
      "       subdipole=\"NO\", \n",
      "       symmetric_cl=\"NO\",\n",
      "       tenormfilein=\"\", tenormfileout=\"\",\n",
      "       tf_file=\"\", \n",
      "       thetamax=\"NO\" ,\n",
      "       tolerance=\"NO\" ,\n",
      "       verbosity=2,\n",
      "       weightfile1=\"\", weightfilep1=\"\", \n",
      "       weightfile2=\"\", weightfilep2=\"\", \n",
      "       weightpower1=1.0, weightpower2=1.0, weightpowerp1=1.0, weightpowerp2=1.0, \n",
      "       windowfilein=\"\",windowfileout=\"\", \n",
      "       label=\"spice\", submit=None):\n",
      "    \n",
      "       Python2 and Python3 interface to F90 spice code\n",
      "    \n",
      "       Required:\n",
      "         mapin1:  input I map, or list of [I,Q,U] maps,  DMC objects of type MAP\n",
      "                  input I or IQU map,                    FITS files\n",
      "                 or list of lists for on-the-fly weighted linear combination (LC) of maps:\n",
      "                 eg:  [ [w1, I1 ],       [w2,  I2 ],       [w3,  I3 ],      ... ]\n",
      "                 or   [ [w1,[I1]],       [w2, [I2]],       [w3, [I3]],      ... ]\n",
      "                 or   [ [w1,[IQU1]],     [w2, [IQU2]],     [w3, [IQU3]]     ... ] (FITS only)\n",
      "                 or   [ [w1,[I1,Q1,U1]], [w2, [I2,Q2,U2]], [w3, [I3,Q3,U3]] ... ] (DMC only)\n",
      "                 so that mapin1_I = w1*I1 + w2*I2 + w3*I3 + ...\n",
      "                   (and  mapin1_Q = w1*Q1 + w2*Q2 + w3*Q3 + ...)\n",
      "                 where w* is a scalar number and I*,Q*,U* are MAPtype objects\n",
      "                 \n",
      "         clout:    output C(l) (either auto or cross),   object  of type CL\n",
      "       \n",
      "       Optional:\n",
      "         alm1fileout:   see [1] below\n",
      "         alm2fileout:   see [1] \n",
      "         alm1weightin:  see [1] \n",
      "         alm2weightin:  see [1] \n",
      "         apodizesigma:  see [1]\n",
      "         apodizetype:   see [1]\n",
      "         beam1, beam2: beam(s) FWHM in arcmin\n",
      "         beam_file*: input B(l) file(s),                 FITS files or objects of type CL\n",
      "         binpath: name of Spice executable, or its relative or absolute path.\n",
      "            If set to \"spice\" (=default value), \"spice_SP\" or \"Spice_DP\",\n",
      "             a code of the same name will be looked-for in the directory (/home/akozameh/miniconda3/envs/CMB/lib/python3.10/site-packages)\n",
      "             containing this python script, or in its sibling directories,\n",
      "             or in $CONDA_PREFIX (=/home/akozameh/miniconda3/envs/CMB).\n",
      "            Paths starting with \".\" are relative to current directory.\n",
      "            Those starting with \"/\" are absolute.\n",
      "         cl_*_file:     see [1]\n",
      "         covfileout: output C(l)C(l) covariance matrix,  FITS file  or object  of type TAB3D\n",
      "         corfile:       see [1]\n",
      "         decouple:      see [1]\n",
      "         extramapfile1: I or [I,Q,U] map to be added to mapin1\n",
      "            will be ignored by Spice if mapin1 is a LC\n",
      "         extramapfile2: I or [I,Q,U] map to be added to mapfile2\n",
      "            will be ignored by Spice if mapfile2 is a LC\n",
      "         fits_out: output files are in FITS instead of plain ASCII\n",
      "         kernelsfileout: see [1]\n",
      "         label: name given to job\n",
      "         mapfile2: map(s) or LC of maps for cross-spectrum\n",
      "            see mapin1 for format\n",
      "         maskfile*:     see [1]\n",
      "         noiseclfile:   see [1] \n",
      "         noisecorfile:  see [1] \n",
      "         normfac:       see [1] \n",
      "         omp_num_threads: number of OMP threads to be used (temporarily (re)defining OMP_NUM_THREADS if >0)\n",
      "                          default value (32): current value of $OMP_NUM_THREADS, or number of virtual CPUs, or 1.\n",
      "         pixelfile*:    see [1]\n",
      "         polarization:  see [1]\n",
      "         subav:         see [1]\n",
      "         subdipole:     see [1]\n",
      "         submit:  if set to False, the command string is generated, but job is not submitted\n",
      "         symmetric_cl:  see [1]\n",
      "         tenormfile*:   see [1]\n",
      "         tf_file:       see [1]\n",
      "         tolerance:     see [1]\n",
      "         verbosity:     see [1]\n",
      "         weightfile*:   see [1]\n",
      "         weightpower*:  see [1]\n",
      "         windowfile*:   see [1]\n",
      "       \n",
      "       [1] ispice.readme()\n",
      "           or\n",
      "           http://www2.iap.fr/users/hivon/software/PolSpice/README.html\n",
      "    \n",
      "       Note: values \"YES\" and \"NO\" can be replaced by True and False respectively,\n",
      "           wherever applicable.\n",
      "    \n",
      "    \n",
      "       Examples:\n",
      "       \n",
      "       import ispice\n",
      "       \n",
      "       # compute polarized spectrum of mapfile:\n",
      "       ispice.ispice(mapfile, clfile, polarization=True, pixelfile=True, subdipole=True)\n",
      "       \n",
      "       # help on ispice (python interface)\n",
      "       help(ispice.ispice)\n",
      "    \n",
      "       # help on PolSpice (F90 backend):\n",
      "       ispice.readme()\n",
      "\n"
     ]
    }
   ],
   "source": [
    "help(ispice.ispice)\n"
   ]
  },
  {
   "cell_type": "code",
   "execution_count": 4,
   "id": "0e53bbf2",
   "metadata": {},
   "outputs": [],
   "source": [
    "lmax = 512\n",
    "input_cl = np.ones(lmax + 1)\n",
    "np.random.seed(1000)\n",
    "input_map = hp.synfast(input_cl, nside=256, pixwin=True)"
   ]
  },
  {
   "cell_type": "code",
   "execution_count": 5,
   "id": "13217c97",
   "metadata": {},
   "outputs": [],
   "source": [
    "mask= np.ones_like(input_map)"
   ]
  },
  {
   "cell_type": "code",
   "execution_count": 6,
   "id": "158665a2",
   "metadata": {},
   "outputs": [
    {
     "name": "stderr",
     "output_type": "stream",
     "text": [
      "setting the output map dtype to [dtype('float64')]\n"
     ]
    }
   ],
   "source": [
    "hp.write_map(\"my_mask.fits\", mask)"
   ]
  },
  {
   "cell_type": "code",
   "execution_count": 15,
   "id": "c36960fd",
   "metadata": {},
   "outputs": [
    {
     "name": "stdout",
     "output_type": "stream",
     "text": [
      "Input files do not exist or are not in FITS\n"
     ]
    },
    {
     "ename": "SystemExit",
     "evalue": "Aborting",
     "output_type": "error",
     "traceback": [
      "An exception has occurred, use %tb to see the full traceback.\n",
      "\u001b[0;31mSystemExit\u001b[0m\u001b[0;31m:\u001b[0m Aborting\n"
     ]
    },
    {
     "name": "stderr",
     "output_type": "stream",
     "text": [
      "/home/akozameh/miniconda3/envs/CMB/lib/python3.10/site-packages/IPython/core/interactiveshell.py:3377: UserWarning: To exit: use 'exit', 'quit', or Ctrl-D.\n",
      "  warn(\"To exit: use 'exit', 'quit', or Ctrl-D.\", stacklevel=1)\n"
     ]
    }
   ],
   "source": [
    "ispice.ispice(input_map, input_cl, polarization='NO', pixelfile=True, subdipole=True)"
   ]
  },
  {
   "cell_type": "code",
   "execution_count": null,
   "id": "750b9bc0",
   "metadata": {},
   "outputs": [],
   "source": []
  }
 ],
 "metadata": {
  "kernelspec": {
   "display_name": "Python 3 (ipykernel)",
   "language": "python",
   "name": "python3"
  },
  "language_info": {
   "codemirror_mode": {
    "name": "ipython",
    "version": 3
   },
   "file_extension": ".py",
   "mimetype": "text/x-python",
   "name": "python",
   "nbconvert_exporter": "python",
   "pygments_lexer": "ipython3",
   "version": "3.10.4"
  }
 },
 "nbformat": 4,
 "nbformat_minor": 5
}
