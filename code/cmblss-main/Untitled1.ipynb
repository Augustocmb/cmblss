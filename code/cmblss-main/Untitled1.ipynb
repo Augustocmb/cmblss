{
 "cells": [
  {
   "cell_type": "code",
   "execution_count": 1,
   "id": "b112c387",
   "metadata": {},
   "outputs": [],
   "source": [
    "import numpy as np\n",
    "import matplotlib.pyplot as plt"
   ]
  },
  {
   "cell_type": "code",
   "execution_count": 2,
   "id": "16e29b03",
   "metadata": {},
   "outputs": [],
   "source": [
    "import pandas as pd"
   ]
  },
  {
   "cell_type": "code",
   "execution_count": 3,
   "id": "7dd56a1d",
   "metadata": {},
   "outputs": [
    {
     "name": "stdout",
     "output_type": "stream",
     "text": [
      "         M  error_inferior       phi  error_superior\n",
      "0  -23.183        0.000001  0.000003        0.000006\n",
      "1  -23.020        0.000003  0.000005        0.000011\n",
      "2  -22.870        0.000013  0.000017        0.000026\n",
      "3  -22.698        0.000025  0.000035        0.000044\n",
      "4  -22.565        0.000058  0.000082        0.000105\n",
      "5  -22.411        0.000105  0.000122        0.000143\n",
      "6  -22.248        0.000206  0.000241        0.000281\n",
      "7  -22.096        0.000290  0.000328        0.000371\n",
      "8  -21.942        0.000445  0.000504        0.000588\n",
      "9  -21.793        0.000800  0.000933        0.001024\n",
      "10 -21.638        0.001121  0.001269        0.001481\n",
      "11 -21.484        0.001525  0.001725        0.001983\n",
      "12 -21.311        0.002205  0.002573        0.002823\n",
      "13 -21.176        0.002908  0.003191        0.003609\n",
      "14 -21.011        0.003495  0.003834        0.004206\n",
      "15 -20.857        0.004332  0.005056        0.005546\n",
      "16 -20.703        0.004896  0.005539        0.006077\n",
      "17 -20.560        0.005707  0.006456        0.007082\n",
      "18 -20.412        0.006449  0.007296        0.008004\n",
      "19 -20.241        0.007750  0.008502        0.009327\n",
      "20 -20.098        0.008493  0.009608        0.010704\n",
      "21 -19.934        0.008224  0.009897        0.010856\n",
      "22 -19.780        0.009584  0.010844        0.012268\n",
      "23 -19.634        0.010502  0.012255        0.013441\n",
      "24 -19.478        0.011330  0.013019        0.014281\n",
      "25 -19.308        0.011852  0.013409        0.015646\n",
      "26 -19.165        0.013394  0.015628        0.017146\n",
      "27 -19.006        0.012970  0.014676        0.017124\n",
      "28 -18.863        0.013782  0.015118        0.017640\n",
      "29 -18.698        0.015572  0.018170        0.020557\n",
      "30 -18.539        0.014624  0.016542        0.018715\n",
      "31 -18.407        0.013316  0.016024        0.018699\n",
      "32 -18.243        0.016507  0.018673        0.021788\n",
      "33 -18.089        0.017535  0.020778        0.025393\n",
      "34 -17.924        0.014553  0.016981        0.020434\n",
      "35 -17.765        0.015460  0.018604        0.021710\n",
      "36 -17.628        0.015444  0.019768        0.023066\n",
      "37 -17.466        0.021000  0.025271        0.030412\n",
      "38 -17.320        0.023010  0.027690        0.033326\n",
      "39 -17.166        0.024447  0.030341        0.037655\n",
      "40 -17.002        0.015852  0.021581        0.025181\n",
      "41 -16.848        0.018472  0.026753        0.032194\n",
      "42 -16.700        0.018454  0.027560        0.036377\n",
      "43 -16.557        0.025881  0.036340        0.049475\n",
      "44 -16.402        0.049419  0.067273        0.097431\n",
      "45 -16.232        0.005871  0.016250        0.042295\n",
      "46 -16.081        0.030088  0.057516        0.116956\n"
     ]
    }
   ],
   "source": [
    "d=pd.read_csv(\"/home/akozameh/cmblss/data/datos_blanton.csv\",sep=\",\", names=[\"M\",\"error_inferior\",\"phi\",\"error_superior\"])\n",
    "print(d)"
   ]
  },
  {
   "cell_type": "code",
   "execution_count": 9,
   "id": "10fa594e",
   "metadata": {},
   "outputs": [],
   "source": [
    "M=d[\"M\"].values\n",
    "L=d[\"phi\"].values\n",
    "error_inf=d[\"phi\"]-d[\"error_inferior\"].values\n",
    "error_sup=d[\"error_superior\"]-d[\"phi\"].values"
   ]
  },
  {
   "cell_type": "code",
   "execution_count": 10,
   "id": "421079cd",
   "metadata": {},
   "outputs": [
    {
     "data": {
      "text/plain": [
       "<ErrorbarContainer object of 3 artists>"
      ]
     },
     "execution_count": 10,
     "metadata": {},
     "output_type": "execute_result"
    },
    {
     "data": {
      "image/png": "[encoded data removed]",
      "text/plain": [
       "<Figure size 432x288 with 1 Axes>"
      ]
     },
     "metadata": {
      "needs_background": "light"
     },
     "output_type": "display_data"
    }
   ],
   "source": [
    "plt.plot(M,L, label=\"r*sample\")\n",
    "plt.yscale(\"log\")\n",
    "plt.xlabel(\"M\")\n",
    "plt.ylabel(\"$\\phi$\")\n",
    "plt.legend()\n",
    "plt.errorbar(M,L, yerr=[error_inf,error_sup])"
   ]
  },
  {
   "cell_type": "code",
   "execution_count": 11,
   "id": "7811d712",
   "metadata": {},
   "outputs": [],
   "source": [
    "# I make the model\n",
    "def schechter(M, M_s, phi_s, alpha):\n",
    "    Phi=0.4*np.log(10)*phi_s*10**[-0.4*(M-M_s)]*np.exp[-0.4*(M-M_s)]\n",
    "    return Phi"
   ]
  },
  {
   "cell_type": "code",
   "execution_count": 12,
   "id": "a0115a4e",
   "metadata": {},
   "outputs": [],
   "source": [
    "# I define the prior\n",
    "def prior(phi_s, M_s, alpha):\n",
    "    if 0.0146 <= phi_s <= 0.246 and -20.83 <= M_s<= -19.8  and -2 <= alpha <= -1.20:\n",
    "        return 1\n",
    "    else:\n",
    "        return 0"
   ]
  },
  {
   "cell_type": "code",
   "execution_count": 13,
   "id": "cd665ce9",
   "metadata": {},
   "outputs": [
    {
     "data": {
      "text/plain": [
       "0"
      ]
     },
     "execution_count": 13,
     "metadata": {},
     "output_type": "execute_result"
    }
   ],
   "source": [
    "prior(0.2,-15, 0.1)"
   ]
  },
  {
   "cell_type": "code",
   "execution_count": null,
   "id": "8e10ab0e",
   "metadata": {},
   "outputs": [],
   "source": [
    "# I compute the standard errors\n",
    "s= (error_sup + error_inf)/2.0       # sigma"
   ]
  },
  {
   "cell_type": "code",
   "execution_count": 17,
   "id": "e0fa0e5b",
   "metadata": {},
   "outputs": [],
   "source": [
    "# I define the likehood\n",
    "def likehood(M, L,  M_s,phi_s, alpha,s):\n",
    "    Phi=schechter(M, M_s, phi_s, alpha)\n",
    "    # Squared schi\n",
    "    chi=((L-Phi)/s)**2\n",
    "    chi_2=np.sum(chi)\n",
    "    return np.exp(-chi_2/2)"
   ]
  },
  {
   "cell_type": "code",
   "execution_count": 19,
   "id": "0574738c",
   "metadata": {},
   "outputs": [],
   "source": [
    "# I define posterior probability\n",
    "def post(M, L,  M_s,phi_s, alpha,s):\n",
    "    posteriori=likehood(M, L,  M_s,phi_s, alpha,s)*prior(  M_s,phi_s, alpha)\n",
    "    return posteriori"
   ]
  },
  {
   "cell_type": "code",
   "execution_count": null,
   "id": "5b1f94a3",
   "metadata": {},
   "outputs": [],
   "source": []
  }
 ],
 "metadata": {
  "kernelspec": {
   "display_name": "Python 3 (ipykernel)",
   "language": "python",
   "name": "python3"
  },
  "language_info": {
   "codemirror_mode": {
    "name": "ipython",
    "version": 3
   },
   "file_extension": ".py",
   "mimetype": "text/x-python",
   "name": "python",
   "nbconvert_exporter": "python",
   "pygments_lexer": "ipython3",
   "version": "3.10.4"
  }
 },
 "nbformat": 4,
 "nbformat_minor": 5
}
