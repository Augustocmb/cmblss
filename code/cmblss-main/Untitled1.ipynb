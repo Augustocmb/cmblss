{
 "cells": [
  {
   "cell_type": "markdown",
   "id": "c5a93a14",
   "metadata": {},
   "source": [
    "# In this code I compute the theorical CMB Power spectrum with CAMB"
   ]
  },
  {
   "cell_type": "code",
   "execution_count": 3,
   "id": "b20d7335",
   "metadata": {},
   "outputs": [
    {
     "name": "stderr",
     "output_type": "stream",
     "text": [
      "\n",
      "WARNING: version mismatch between CFITSIO header (v4.000999999999999) and linked library (v4.01).\n",
      "\n",
      "\n",
      "WARNING: version mismatch between CFITSIO header (v4.000999999999999) and linked library (v4.01).\n",
      "\n",
      "\n",
      "WARNING: version mismatch between CFITSIO header (v4.000999999999999) and linked library (v4.01).\n",
      "\n"
     ]
    }
   ],
   "source": [
    "%matplotlib inline\n",
    "%config InlineBackend.figure_format = 'retina'\n",
    "import sys, platform, os\n",
    "import matplotlib\n",
    "from matplotlib import pyplot as plt\n",
    "import numpy as np\n",
    "import healpy as hp"
   ]
  },
  {
   "cell_type": "code",
   "execution_count": 4,
   "id": "e5ad7251",
   "metadata": {},
   "outputs": [],
   "source": [
    "camb_path = os.path.realpath(os.path.join(os.getcwd(),'..'))"
   ]
  },
  {
   "cell_type": "code",
   "execution_count": 5,
   "id": "3599fe0c",
   "metadata": {},
   "outputs": [],
   "source": [
    "sys.path.insert(0,camb_path)"
   ]
  },
  {
   "cell_type": "code",
   "execution_count": 6,
   "id": "e51c7f2a",
   "metadata": {},
   "outputs": [],
   "source": [
    "import camb\n",
    "from camb import model, initialpower"
   ]
  },
  {
   "cell_type": "code",
   "execution_count": 7,
   "id": "385beea6",
   "metadata": {},
   "outputs": [],
   "source": [
    "pars=camb.CAMBparams()\n",
    "pars.set_cosmology(H0=67.66, ombh2=0.02242, omch2=0.11933, mnu=0.06, omk=0.001, tau=0.0561)\n",
    "pars.InitPower.set_params(As=2.105e-9, ns=0.9665, r=0)\n",
    "pars.set_for_lmax(2500, lens_potential_accuracy=0);"
   ]
  },
  {
   "cell_type": "code",
   "execution_count": 8,
   "id": "3829f086",
   "metadata": {},
   "outputs": [],
   "source": [
    "#calculate results for these parameters\n",
    "results = camb.get_results(pars)"
   ]
  },
  {
   "cell_type": "code",
   "execution_count": 9,
   "id": "fad9b6de",
   "metadata": {},
   "outputs": [
    {
     "name": "stdout",
     "output_type": "stream",
     "text": [
      "total\n",
      "unlensed_scalar\n",
      "unlensed_total\n",
      "lensed_scalar\n",
      "tensor\n",
      "lens_potential\n"
     ]
    }
   ],
   "source": [
    "#get dictionary of CAMB power spectra\n",
    "powers =results.get_cmb_power_spectra(pars, CMB_unit='muK')\n",
    "for name in powers: print(name)"
   ]
  },
  {
   "cell_type": "code",
   "execution_count": 10,
   "id": "c2087eaa",
   "metadata": {
    "scrolled": true
   },
   "outputs": [
    {
     "name": "stdout",
     "output_type": "stream",
     "text": [
      "(2551, 4)\n",
      "(2551, 4)\n"
     ]
    }
   ],
   "source": [
    "totCL=powers['total']\n",
    "unlensedCL=powers['unlensed_scalar']\n",
    "print(totCL.shape)\n",
    "print(unlensedCL.shape)"
   ]
  },
  {
   "cell_type": "code",
   "execution_count": 15,
   "id": "e67ea69b",
   "metadata": {},
   "outputs": [],
   "source": [
    "ls = np.arange(totCL.shape[0])"
   ]
  },
  {
   "cell_type": "markdown",
   "id": "0f19d058",
   "metadata": {},
   "source": [
    "# Correlation function with CAMB"
   ]
  },
  {
   "cell_type": "code",
   "execution_count": 1,
   "id": "50f5fb18",
   "metadata": {},
   "outputs": [],
   "source": [
    "r\"\"\"\n",
    "Functions to transform CMB power spectrum into correlation functions cl2corr\n",
    "\"\"\"\n",
    "import numpy as np\n",
    "import os"
   ]
  },
  {
   "cell_type": "code",
   "execution_count": 2,
   "id": "fe3b27fa",
   "metadata": {},
   "outputs": [],
   "source": [
    "try:\n",
    "    from .mathutils import gauss_legendre\n",
    "except:\n",
    "    # use np.polynomial.legendre if can't load fast native (so can use module without compiling camb)\n",
    "    # Fortran version is much faster than current np.polynomial\n",
    "    gauss_legendre = None\n"
   ]
  },
  {
   "cell_type": "code",
   "execution_count": 40,
   "id": "b9d5fce0",
   "metadata": {},
   "outputs": [],
   "source": [
    "if not os.environ.get('READTHEDOCS', None):\n",
    "    from scipy.special import lpn as legendreP\n",
    "else:\n",
    "    np.pi = 3.1415927  # needed to get docs right for np.pi/32 default argument"
   ]
  },
  {
   "cell_type": "code",
   "execution_count": 11,
   "id": "0219f453",
   "metadata": {},
   "outputs": [],
   "source": [
    "#  create a  empty dictionary\n",
    "_gauss_legendre_cache = {}\n"
   ]
  },
  {
   "cell_type": "code",
   "execution_count": 12,
   "id": "0298aecc",
   "metadata": {},
   "outputs": [],
   "source": [
    "#computes the legendre polynomials. \n",
    "#xvals and weights in dictionary\n",
    "def _cached_gauss_legendre(npoints, cache=True):   # two parameters: npoints and cache\n",
    "    if cache and npoints in _gauss_legendre_cache:\n",
    "        return _gauss_legendre_cache[npoints]\n",
    "    else:\n",
    "        if gauss_legendre is not None:\n",
    "            xvals = np.empty(npoints)\n",
    "            weights = np.empty(npoints)\n",
    "            gauss_legendre(xvals, weights, npoints)\n",
    "            xvals.flags.writeable = False\n",
    "            weights.flags.writeable = False\n",
    "        else:\n",
    "            xvals, weights = np.polynomial.legendre.leggauss(npoints)\n",
    "        if cache:\n",
    "            _gauss_legendre_cache[npoints] = xvals, weights\n",
    "        return xvals, weights"
   ]
  },
  {
   "cell_type": "code",
   "execution_count": 34,
   "id": "90d95807",
   "metadata": {},
   "outputs": [],
   "source": [
    "def legendre_funcs(lmax, x, m=(0, 2), lfacs=None, lfacs2=None, lrootfacs=None):\n",
    "    r\"\"\"\n",
    "    Utility function to return array of Legendre and :math:`d_{mn}` functions for all :math:`\\ell` up to lmax.\n",
    "    Note that :math:`d_{mn}` arrays start at :math:`\\ell_{\\rm min} = \\max(m,n)`, so returned arrays are different sizes\n",
    "\n",
    "    :param lmax: maximum :math:`\\ell`\n",
    "    :param x: scalar value of :math:`\\cos(\\theta)` at which to evaluate\n",
    "    :param m: m values to calculate :math:`d_{m,n}`, etc as relevant\n",
    "    :param lfacs: optional pre-computed :math:`\\ell(\\ell+1)` float array\n",
    "    :param lfacs2: optional pre-computed :math:`(\\ell+2)*(\\ell-1)` float array\n",
    "    :param lrootfacs: optional pre-computed sqrt(lfacs*lfacs2) array\n",
    "    :return: :math:`(P,P'),(d_{11},d_{-1,1}), (d_{20}, d_{22}, d_{2,-2})` as requested, where P starts\n",
    "             at :math:`\\ell=0`, but spin functions start at :math:`\\ell=\\ell_{\\rm min}`\n",
    "    \"\"\"\n",
    "    allP, alldP = legendreP(lmax, x)\n",
    "    # Polarization functions all start at L=2\n",
    "    fac1 = 1 - x\n",
    "    fac2 = 1 + x\n",
    "    res = []\n",
    "    if 0 in m:\n",
    "        res.append((allP, alldP))\n",
    "\n",
    "    if 1 in m:\n",
    "        lfacs1 = np.arange(1, lmax + 1, dtype=np.float64)\n",
    "        lfacs1 *= (1 + lfacs1)\n",
    "        d11 = fac1 * alldP[1:] / lfacs1 + allP[1:]\n",
    "        dm11 = fac2 * alldP[1:] / lfacs1 - allP[1:]\n",
    "        res.append((d11, dm11))\n",
    "\n",
    "    if 2 in m:\n",
    "        if lfacs is None:\n",
    "            ls = np.arange(2, lmax + 1, dtype=np.float64)\n",
    "            lfacs = ls * (ls + 1)\n",
    "            lfacs2 = (ls + 2) * (ls - 1)\n",
    "            lrootfacs = np.sqrt(lfacs * lfacs2)\n",
    "        P = allP[2:]\n",
    "        dP = alldP[2:]\n",
    "\n",
    "        fac = fac1 / fac2\n",
    "        d22 = (((4 * x - 8) / fac2 + lfacs) * P\n",
    "               + 4 * fac * (fac2 + (x - 2) / lfacs) * dP) / lfacs2\n",
    "        if x > 0.998:\n",
    "              # for stability use series at small angles (thanks Pavel Motloch)\n",
    "            d2m2 = np.empty(lmax - 1)\n",
    "            indser = int(np.sqrt((400.0 + 3 / (1 - x ** 2)) / 150)) - 1\n",
    "            d2m2[indser:] = ((lfacs[indser:] - (4 * x + 8) / fac1) * P[indser:]\n",
    "                             + 4 / fac * (-fac1 + (x + 2) / lfacs[indser:]) * dP[indser:]) / lfacs2[indser:]\n",
    "            sin2 = 1 - x ** 2\n",
    "            d2m2[:indser] = lfacs[:indser] * lfacs2[:indser] * sin2 ** 2 / 7680 * (20 + sin2 * (16 - lfacs[:indser]))\n",
    "        else:\n",
    "            d2m2 = ((lfacs - (4 * x + 8) / fac1) * P\n",
    "                    + 4 / fac * (-fac1 + (x + 2) / lfacs) * dP) / lfacs2\n",
    "        d20 = (2 * x * dP - lfacs * P) / lrootfacs\n",
    "        res.append((d20, d22, d2m2))\n",
    "\n",
    "    return res"
   ]
  },
  {
   "cell_type": "code",
   "execution_count": 35,
   "id": "63623821",
   "metadata": {},
   "outputs": [],
   "source": [
    "def cl2corr(cls, xvals, lmax=None):\n",
    "    r\"\"\"\n",
    "    Get the correlation function from the power spectra, evaluated at points cos(theta) = xvals.\n",
    "    Use roots of Legendre polynomials (np.polynomial.legendre.leggauss) for accurate back integration with corr2cl.\n",
    "    Note currently does not work at xvals=1 (can easily calculate that as special case!).\n",
    "\n",
    "    :param cls: 2D array cls(L,ix), with L (:math:`\\equiv \\ell`) starting at zero and ix-0,1,2,3 in\n",
    "                order TT, EE, BB, TE. cls should include :math:`\\ell(\\ell+1)/2\\pi` factors.\n",
    "    :param xvals: array of :math:`\\cos(\\theta)` values at which to calculate correlation function.\n",
    "    :param lmax: optional maximum L to use from the cls arrays\n",
    "    :return: 2D array of corrs[i, ix], where ix=0,1,2,3 are T, Q+U, Q-U and cross\n",
    "    \"\"\"\n",
    "\n",
    "    if lmax is None:\n",
    "        lmax = cls.shape[0] - 1\n",
    "    xvals = np.asarray(xvals)\n",
    "    ls = np.arange(0, lmax + 1, dtype=np.float64)\n",
    "    corrs = np.zeros((len(xvals), 4))\n",
    "    lfacs = ls * (ls + 1)\n",
    "    lfacs[0] = 1\n",
    "    facs = (2 * ls + 1) / (4 * np.pi) * 2 * np.pi / lfacs\n",
    "\n",
    "    ct = facs * cls[:lmax + 1, 0]\n",
    "    # For polarization, all arrays start at 2\n",
    "    cp = facs[2:] * (cls[2:lmax + 1, 1] + cls[2:lmax + 1, 2])\n",
    "    cm = facs[2:] * (cls[2:lmax + 1, 1] - cls[2:lmax + 1, 2])\n",
    "    cc = facs[2:] * cls[2:lmax + 1, 3]\n",
    "    ls = ls[2:]\n",
    "    lfacs = lfacs[2:]\n",
    "    lfacs2 = (ls + 2) * (ls - 1)\n",
    "    lrootfacs = np.sqrt(lfacs * lfacs2)\n",
    "    for i, x in enumerate(xvals):\n",
    "        (P, _), (d20, d22, d2m2) = legendre_funcs(lmax, x, [0, 2], lfacs, lfacs2, lrootfacs)\n",
    "        corrs[i, 0] = np.dot(ct, P)  # T\n",
    "        corrs[i, 1] = np.dot(cp, d22)  # Q+U\n",
    "        corrs[i, 2] = np.dot(cm, d2m2)  # Q-U\n",
    "        corrs[i, 3] = np.dot(cc, d20)  # cross\n",
    "\n",
    "    return corrs\n"
   ]
  },
  {
   "cell_type": "code",
   "execution_count": 55,
   "id": "5512373d",
   "metadata": {},
   "outputs": [
    {
     "data": {
      "text/plain": [
       "(2551, 4)"
      ]
     },
     "execution_count": 55,
     "metadata": {},
     "output_type": "execute_result"
    }
   ],
   "source": [
    "totCL.shape\n"
   ]
  },
  {
   "cell_type": "code",
   "execution_count": 42,
   "id": "1621eb8e",
   "metadata": {},
   "outputs": [
    {
     "data": {
      "text/plain": [
       "array([-1.   , -0.999, -0.998, ...,  0.997,  0.998,  0.999])"
      ]
     },
     "execution_count": 42,
     "metadata": {},
     "output_type": "execute_result"
    }
   ],
   "source": [
    "xvals=np.arange(-1,1,0.001)\n",
    "xvals"
   ]
  },
  {
   "cell_type": "code",
   "execution_count": 54,
   "id": "e101681b",
   "metadata": {},
   "outputs": [
    {
     "ename": "IndexError",
     "evalue": "too many indices for array: array is 1-dimensional, but 2 were indexed",
     "output_type": "error",
     "traceback": [
      "\u001b[0;31m---------------------------------------------------------------------------\u001b[0m",
      "\u001b[0;31mIndexError\u001b[0m                                Traceback (most recent call last)",
      "Input \u001b[0;32mIn [54]\u001b[0m, in \u001b[0;36m<cell line: 1>\u001b[0;34m()\u001b[0m\n\u001b[0;32m----> 1\u001b[0m \u001b[43mcl2corr\u001b[49m\u001b[43m(\u001b[49m\u001b[43mtotCL\u001b[49m\u001b[43m[\u001b[49m\u001b[43m:\u001b[49m\u001b[43m,\u001b[49m\u001b[38;5;241;43m0\u001b[39;49m\u001b[43m]\u001b[49m\u001b[43m,\u001b[49m\u001b[43m \u001b[49m\u001b[43mxvals\u001b[49m\u001b[43m)\u001b[49m\n",
      "Input \u001b[0;32mIn [35]\u001b[0m, in \u001b[0;36mcl2corr\u001b[0;34m(cls, xvals, lmax)\u001b[0m\n\u001b[1;32m     20\u001b[0m lfacs[\u001b[38;5;241m0\u001b[39m] \u001b[38;5;241m=\u001b[39m \u001b[38;5;241m1\u001b[39m\n\u001b[1;32m     21\u001b[0m facs \u001b[38;5;241m=\u001b[39m (\u001b[38;5;241m2\u001b[39m \u001b[38;5;241m*\u001b[39m ls \u001b[38;5;241m+\u001b[39m \u001b[38;5;241m1\u001b[39m) \u001b[38;5;241m/\u001b[39m (\u001b[38;5;241m4\u001b[39m \u001b[38;5;241m*\u001b[39m np\u001b[38;5;241m.\u001b[39mpi) \u001b[38;5;241m*\u001b[39m \u001b[38;5;241m2\u001b[39m \u001b[38;5;241m*\u001b[39m np\u001b[38;5;241m.\u001b[39mpi \u001b[38;5;241m/\u001b[39m lfacs\n\u001b[0;32m---> 23\u001b[0m ct \u001b[38;5;241m=\u001b[39m facs \u001b[38;5;241m*\u001b[39m \u001b[38;5;28;43mcls\u001b[39;49m\u001b[43m[\u001b[49m\u001b[43m:\u001b[49m\u001b[43mlmax\u001b[49m\u001b[43m \u001b[49m\u001b[38;5;241;43m+\u001b[39;49m\u001b[43m \u001b[49m\u001b[38;5;241;43m1\u001b[39;49m\u001b[43m,\u001b[49m\u001b[43m \u001b[49m\u001b[38;5;241;43m0\u001b[39;49m\u001b[43m]\u001b[49m\n\u001b[1;32m     24\u001b[0m \u001b[38;5;66;03m# For polarization, all arrays start at 2\u001b[39;00m\n\u001b[1;32m     25\u001b[0m cp \u001b[38;5;241m=\u001b[39m facs[\u001b[38;5;241m2\u001b[39m:] \u001b[38;5;241m*\u001b[39m (\u001b[38;5;28mcls\u001b[39m[\u001b[38;5;241m2\u001b[39m:lmax \u001b[38;5;241m+\u001b[39m \u001b[38;5;241m1\u001b[39m, \u001b[38;5;241m1\u001b[39m] \u001b[38;5;241m+\u001b[39m \u001b[38;5;28mcls\u001b[39m[\u001b[38;5;241m2\u001b[39m:lmax \u001b[38;5;241m+\u001b[39m \u001b[38;5;241m1\u001b[39m, \u001b[38;5;241m2\u001b[39m])\n",
      "\u001b[0;31mIndexError\u001b[0m: too many indices for array: array is 1-dimensional, but 2 were indexed"
     ]
    }
   ],
   "source": [
    "cl2corr(totCL[:,0], xvals)"
   ]
  },
  {
   "cell_type": "code",
   "execution_count": 45,
   "id": "8d79b420",
   "metadata": {},
   "outputs": [],
   "source": [
    "from camb import #plot the total lensed CMB power spectra versus unlensed, and fractional difference\n",
    "totCL=powers['total']\n",
    "unlensedCL=powers['unlensed_scalar']\n",
    "print(totCL.shape)\n",
    "#Python CL arrays are all zero based (starting at L=0), Note L=0,1 entries will be zero by default.\n",
    "#The different CL are always in the order TT, EE, BB, TE (with BB=0 for unlensed scalar results).\n",
    "ls = np.arange(totCL.shape[0])"
   ]
  },
  {
   "cell_type": "code",
   "execution_count": 46,
   "id": "0f19a44d",
   "metadata": {},
   "outputs": [],
   "source": [
    "theta=np.linspace(0.1,np.pi,100)\n",
    "x=np.cos(theta)"
   ]
  },
  {
   "cell_type": "code",
   "execution_count": 47,
   "id": "052a5345",
   "metadata": {},
   "outputs": [
    {
     "name": "stderr",
     "output_type": "stream",
     "text": [
      "/home/augusto/anaconda3/envs/CMB/lib/python3.10/site-packages/camb/correlations.py:88: RuntimeWarning: divide by zero encountered in double_scalars\n",
      "  fac = fac1 / fac2\n",
      "/home/augusto/anaconda3/envs/CMB/lib/python3.10/site-packages/camb/correlations.py:89: RuntimeWarning: divide by zero encountered in double_scalars\n",
      "  d22 = (((4 * x - 8) / fac2 + lfacs) * P\n",
      "/home/augusto/anaconda3/envs/CMB/lib/python3.10/site-packages/camb/correlations.py:89: RuntimeWarning: invalid value encountered in add\n",
      "  d22 = (((4 * x - 8) / fac2 + lfacs) * P\n"
     ]
    }
   ],
   "source": [
    "c_theta=camb.correlations.cl2corr(totCL, x, lmax=2000)"
   ]
  },
  {
   "cell_type": "code",
   "execution_count": 50,
   "id": "576e2321",
   "metadata": {},
   "outputs": [
    {
     "data": {
      "text/plain": [
       "[<matplotlib.lines.Line2D at 0x7f98d4fc83d0>,\n",
       " <matplotlib.lines.Line2D at 0x7f98d4f9b2b0>,\n",
       " <matplotlib.lines.Line2D at 0x7f98d4f9b2e0>,\n",
       " <matplotlib.lines.Line2D at 0x7f98d4fc8550>]"
      ]
     },
     "execution_count": 50,
     "metadata": {},
     "output_type": "execute_result"
    },
    {
     "data": {
      "image/png": "[encoded data removed]",
      "text/plain": [
       "<Figure size 432x288 with 1 Axes>"
      ]
     },
     "metadata": {
      "image/png": {
       "height": 248,
       "width": 383
      },
      "needs_background": "light"
     },
     "output_type": "display_data"
    }
   ],
   "source": [
    "plt.plot(theta*180/np.pi,c_theta)"
   ]
  },
  {
   "cell_type": "markdown",
   "id": "7ba15084",
   "metadata": {},
   "source": [
    "# Creation 10 maps with healpy routine synfast"
   ]
  },
  {
   "cell_type": "code",
   "execution_count": 52,
   "id": "ef0b8b16",
   "metadata": {},
   "outputs": [
    {
     "ename": "TypeError",
     "evalue": "The sequence of arrays must have either 4 elements or n(n+1)/2 elements (some may be None)",
     "output_type": "error",
     "traceback": [
      "\u001b[0;31m---------------------------------------------------------------------------\u001b[0m",
      "\u001b[0;31mTypeError\u001b[0m                                 Traceback (most recent call last)",
      "Input \u001b[0;32mIn [52]\u001b[0m, in \u001b[0;36m<cell line: 3>\u001b[0;34m()\u001b[0m\n\u001b[1;32m      1\u001b[0m lmax \u001b[38;5;241m=\u001b[39m \u001b[38;5;241m2500\u001b[39m\n\u001b[1;32m      2\u001b[0m nside\u001b[38;5;241m=\u001b[39m\u001b[38;5;241m2048\u001b[39m\n\u001b[0;32m----> 3\u001b[0m mapa_cl_1 \u001b[38;5;241m=\u001b[39m \u001b[43mhp\u001b[49m\u001b[38;5;241;43m.\u001b[39;49m\u001b[43msphtfunc\u001b[49m\u001b[38;5;241;43m.\u001b[39;49m\u001b[43msynfast\u001b[49m\u001b[43m(\u001b[49m\u001b[43mtotCL\u001b[49m\u001b[43m,\u001b[49m\u001b[43m \u001b[49m\u001b[43mnside\u001b[49m\u001b[38;5;241;43m=\u001b[39;49m\u001b[43mnside\u001b[49m\u001b[43m,\u001b[49m\u001b[43m \u001b[49m\u001b[43mlmax\u001b[49m\u001b[43m \u001b[49m\u001b[38;5;241;43m=\u001b[39;49m\u001b[43mlmax\u001b[49m\u001b[43m,\u001b[49m\u001b[43m \u001b[49m\u001b[43mfwhm\u001b[49m\u001b[38;5;241;43m=\u001b[39;49m\u001b[43mnp\u001b[49m\u001b[38;5;241;43m.\u001b[39;49m\u001b[43mradians\u001b[49m\u001b[43m(\u001b[49m\u001b[38;5;241;43m5\u001b[39;49m\u001b[38;5;241;43m/\u001b[39;49m\u001b[38;5;241;43m60\u001b[39;49m\u001b[43m)\u001b[49m\u001b[43m)\u001b[49m\n\u001b[1;32m      4\u001b[0m mapa_cl_2 \u001b[38;5;241m=\u001b[39m hp\u001b[38;5;241m.\u001b[39msphtfunc\u001b[38;5;241m.\u001b[39msynfast(totCL, nside\u001b[38;5;241m=\u001b[39mnside, lmax \u001b[38;5;241m=\u001b[39mlmax, fwhm\u001b[38;5;241m=\u001b[39mnp\u001b[38;5;241m.\u001b[39mradians(\u001b[38;5;241m5\u001b[39m\u001b[38;5;241m/\u001b[39m\u001b[38;5;241m60\u001b[39m))\n\u001b[1;32m      5\u001b[0m mapa_cl_3 \u001b[38;5;241m=\u001b[39m hp\u001b[38;5;241m.\u001b[39msphtfunc\u001b[38;5;241m.\u001b[39msynfast(totCL, nside\u001b[38;5;241m=\u001b[39mnside, lmax \u001b[38;5;241m=\u001b[39mlmax, fwhm\u001b[38;5;241m=\u001b[39mnp\u001b[38;5;241m.\u001b[39mradians(\u001b[38;5;241m5\u001b[39m\u001b[38;5;241m/\u001b[39m\u001b[38;5;241m60\u001b[39m))\n",
      "File \u001b[0;32m~/anaconda3/envs/CMB/lib/python3.10/site-packages/astropy/utils/decorators.py:546\u001b[0m, in \u001b[0;36mdeprecated_renamed_argument.<locals>.decorator.<locals>.wrapper\u001b[0;34m(*args, **kwargs)\u001b[0m\n\u001b[1;32m    543\u001b[0m             msg \u001b[38;5;241m+\u001b[39m\u001b[38;5;241m=\u001b[39m \u001b[38;5;124mf\u001b[39m\u001b[38;5;124m'\u001b[39m\u001b[38;5;130;01m\\n\u001b[39;00m\u001b[38;5;124m        Use \u001b[39m\u001b[38;5;132;01m{\u001b[39;00malternative\u001b[38;5;132;01m}\u001b[39;00m\u001b[38;5;124m instead.\u001b[39m\u001b[38;5;124m'\u001b[39m\n\u001b[1;32m    544\u001b[0m         warnings\u001b[38;5;241m.\u001b[39mwarn(msg, warning_type, stacklevel\u001b[38;5;241m=\u001b[39m\u001b[38;5;241m2\u001b[39m)\n\u001b[0;32m--> 546\u001b[0m \u001b[38;5;28;01mreturn\u001b[39;00m \u001b[43mfunction\u001b[49m\u001b[43m(\u001b[49m\u001b[38;5;241;43m*\u001b[39;49m\u001b[43margs\u001b[49m\u001b[43m,\u001b[49m\u001b[43m \u001b[49m\u001b[38;5;241;43m*\u001b[39;49m\u001b[38;5;241;43m*\u001b[39;49m\u001b[43mkwargs\u001b[49m\u001b[43m)\u001b[49m\n",
      "File \u001b[0;32m~/anaconda3/envs/CMB/lib/python3.10/site-packages/healpy/sphtfunc.py:569\u001b[0m, in \u001b[0;36msynfast\u001b[0;34m(cls, nside, lmax, mmax, alm, pol, pixwin, fwhm, sigma, new, verbose)\u001b[0m\n\u001b[1;32m    567\u001b[0m \u001b[38;5;28;01mif\u001b[39;00m lmax \u001b[38;5;129;01mis\u001b[39;00m \u001b[38;5;28;01mNone\u001b[39;00m \u001b[38;5;129;01mor\u001b[39;00m lmax \u001b[38;5;241m<\u001b[39m \u001b[38;5;241m0\u001b[39m:\n\u001b[1;32m    568\u001b[0m     lmax \u001b[38;5;241m=\u001b[39m \u001b[38;5;28mmin\u001b[39m(cls_lmax, \u001b[38;5;241m3\u001b[39m \u001b[38;5;241m*\u001b[39m nside \u001b[38;5;241m-\u001b[39m \u001b[38;5;241m1\u001b[39m)\n\u001b[0;32m--> 569\u001b[0m alms \u001b[38;5;241m=\u001b[39m \u001b[43msynalm\u001b[49m\u001b[43m(\u001b[49m\u001b[38;5;28;43mcls\u001b[39;49m\u001b[43m,\u001b[49m\u001b[43m \u001b[49m\u001b[43mlmax\u001b[49m\u001b[38;5;241;43m=\u001b[39;49m\u001b[43mlmax\u001b[49m\u001b[43m,\u001b[49m\u001b[43m \u001b[49m\u001b[43mmmax\u001b[49m\u001b[38;5;241;43m=\u001b[39;49m\u001b[43mmmax\u001b[49m\u001b[43m,\u001b[49m\u001b[43m \u001b[49m\u001b[43mnew\u001b[49m\u001b[38;5;241;43m=\u001b[39;49m\u001b[43mnew\u001b[49m\u001b[43m)\u001b[49m\n\u001b[1;32m    570\u001b[0m maps \u001b[38;5;241m=\u001b[39m alm2map(\n\u001b[1;32m    571\u001b[0m     alms,\n\u001b[1;32m    572\u001b[0m     nside,\n\u001b[0;32m   (...)\u001b[0m\n\u001b[1;32m    579\u001b[0m     inplace\u001b[38;5;241m=\u001b[39m\u001b[38;5;28;01mTrue\u001b[39;00m,\n\u001b[1;32m    580\u001b[0m )\n\u001b[1;32m    581\u001b[0m \u001b[38;5;28;01mif\u001b[39;00m alm:\n",
      "File \u001b[0;32m~/anaconda3/envs/CMB/lib/python3.10/site-packages/astropy/utils/decorators.py:546\u001b[0m, in \u001b[0;36mdeprecated_renamed_argument.<locals>.decorator.<locals>.wrapper\u001b[0;34m(*args, **kwargs)\u001b[0m\n\u001b[1;32m    543\u001b[0m             msg \u001b[38;5;241m+\u001b[39m\u001b[38;5;241m=\u001b[39m \u001b[38;5;124mf\u001b[39m\u001b[38;5;124m'\u001b[39m\u001b[38;5;130;01m\\n\u001b[39;00m\u001b[38;5;124m        Use \u001b[39m\u001b[38;5;132;01m{\u001b[39;00malternative\u001b[38;5;132;01m}\u001b[39;00m\u001b[38;5;124m instead.\u001b[39m\u001b[38;5;124m'\u001b[39m\n\u001b[1;32m    544\u001b[0m         warnings\u001b[38;5;241m.\u001b[39mwarn(msg, warning_type, stacklevel\u001b[38;5;241m=\u001b[39m\u001b[38;5;241m2\u001b[39m)\n\u001b[0;32m--> 546\u001b[0m \u001b[38;5;28;01mreturn\u001b[39;00m \u001b[43mfunction\u001b[49m\u001b[43m(\u001b[49m\u001b[38;5;241;43m*\u001b[39;49m\u001b[43margs\u001b[49m\u001b[43m,\u001b[49m\u001b[43m \u001b[49m\u001b[38;5;241;43m*\u001b[39;49m\u001b[38;5;241;43m*\u001b[39;49m\u001b[43mkwargs\u001b[49m\u001b[43m)\u001b[49m\n",
      "File \u001b[0;32m~/anaconda3/envs/CMB/lib/python3.10/site-packages/healpy/sphtfunc.py:476\u001b[0m, in \u001b[0;36msynalm\u001b[0;34m(cls, lmax, mmax, new, verbose)\u001b[0m\n\u001b[1;32m    474\u001b[0m         Nspec \u001b[38;5;241m=\u001b[39m \u001b[38;5;241m3\u001b[39m\n\u001b[1;32m    475\u001b[0m     \u001b[38;5;28;01melse\u001b[39;00m:\n\u001b[0;32m--> 476\u001b[0m         \u001b[38;5;28;01mraise\u001b[39;00m \u001b[38;5;167;01mTypeError\u001b[39;00m(\n\u001b[1;32m    477\u001b[0m             \u001b[38;5;124m\"\u001b[39m\u001b[38;5;124mThe sequence of arrays must have either 4 elements \u001b[39m\u001b[38;5;124m\"\u001b[39m\n\u001b[1;32m    478\u001b[0m             \u001b[38;5;124m\"\u001b[39m\u001b[38;5;124mor n(n+1)/2 elements (some may be None)\u001b[39m\u001b[38;5;124m\"\u001b[39m\n\u001b[1;32m    479\u001b[0m         )\n\u001b[1;32m    481\u001b[0m szalm \u001b[38;5;241m=\u001b[39m Alm\u001b[38;5;241m.\u001b[39mgetsize(lmax, mmax)\n\u001b[1;32m    482\u001b[0m alms_list \u001b[38;5;241m=\u001b[39m []\n",
      "\u001b[0;31mTypeError\u001b[0m: The sequence of arrays must have either 4 elements or n(n+1)/2 elements (some may be None)"
     ]
    }
   ],
   "source": [
    "lmax = 2500\n",
    "nside=2048\n",
    "mapa_cl_1 = hp.sphtfunc.synfast(totCL, nside=nside, lmax =lmax, fwhm=np.radians(5/60))\n",
    "mapa_cl_2 = hp.sphtfunc.synfast(totCL, nside=nside, lmax =lmax, fwhm=np.radians(5/60))\n",
    "mapa_cl_3 = hp.sphtfunc.synfast(totCL, nside=nside, lmax =lmax, fwhm=np.radians(5/60))"
   ]
  },
  {
   "cell_type": "code",
   "execution_count": null,
   "id": "1f049672",
   "metadata": {},
   "outputs": [],
   "source": []
  }
 ],
 "metadata": {
  "kernelspec": {
   "display_name": "Python 3 (ipykernel)",
   "language": "python",
   "name": "python3"
  },
  "language_info": {
   "codemirror_mode": {
    "name": "ipython",
    "version": 3
   },
   "file_extension": ".py",
   "mimetype": "text/x-python",
   "name": "python",
   "nbconvert_exporter": "python",
   "pygments_lexer": "ipython3",
   "version": "3.10.4"
  }
 },
 "nbformat": 4,
 "nbformat_minor": 5
}
