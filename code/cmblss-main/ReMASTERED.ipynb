{
 "cells": [
  {
   "cell_type": "markdown",
   "id": "db948b8c",
   "metadata": {},
   "source": [
    "# I compute the $C_{ls}$ with ReMASTERED python routine"
   ]
  },
  {
   "cell_type": "code",
   "execution_count": 1,
   "id": "db212296",
   "metadata": {
    "scrolled": true
   },
   "outputs": [
    {
     "name": "stderr",
     "output_type": "stream",
     "text": [
      "\n",
      "WARNING: version mismatch between CFITSIO header (v4.000999999999999) and linked library (v4.01).\n",
      "\n",
      "\n",
      "WARNING: version mismatch between CFITSIO header (v4.000999999999999) and linked library (v4.01).\n",
      "\n",
      "\n",
      "WARNING: version mismatch between CFITSIO header (v4.000999999999999) and linked library (v4.01).\n",
      "\n"
     ]
    }
   ],
   "source": [
    "# Import libraries\n",
    "import healpy as hp\n",
    "import numpy as np\n",
    "import matplotlib.pyplot as plt\n",
    "import pymaster as nmt"
   ]
  },
  {
   "cell_type": "code",
   "execution_count": 8,
   "id": "a201c32b",
   "metadata": {},
   "outputs": [],
   "source": [
    "# Read the map\n",
    "m=hp.read_map('/home/akozameh/reMASTERed/COM_CMB_IQU-smica_2048_R3.00_hm2.fits')"
   ]
  },
  {
   "cell_type": "code",
   "execution_count": 5,
   "id": "b5cf1875",
   "metadata": {},
   "outputs": [],
   "source": [
    "# Read and apodize the mask\n",
    "mask=hp.read_map('/home/akozameh/reMASTERed/mask_total.fits')\n",
    "mask_total=nmt.utils.mask_apodization(mask, 2.5, apotype='C1')"
   ]
  },
  {
   "cell_type": "code",
   "execution_count": 12,
   "id": "066809aa",
   "metadata": {},
   "outputs": [],
   "source": [
    "# Resolution of  the maps and mask at 128\n",
    "m = hp.pixelfunc.ud_grade(m,128)\n",
    "mask_total=hp.pixelfunc.ud_grade(mask_total,128)"
   ]
  },
  {
   "cell_type": "code",
   "execution_count": 19,
   "id": "7416b367",
   "metadata": {},
   "outputs": [
    {
     "name": "stderr",
     "output_type": "stream",
     "text": [
      "setting the output map dtype to [dtype('float64')]\n",
      "setting the output map dtype to [dtype('float32')]\n"
     ]
    }
   ],
   "source": [
    "# Saving the map and mask\n",
    "hp.fitsfunc.write_map('/home/akozameh/reMASTERed/mask_total.fits', mask_total, overwrite=\"True\")\n",
    "hp.fitsfunc.write_map('/home/akozameh/reMASTERed/m.fits', m)"
   ]
  },
  {
   "cell_type": "code",
   "execution_count": null,
   "id": "00b9dc71",
   "metadata": {},
   "outputs": [],
   "source": []
  }
 ],
 "metadata": {
  "kernelspec": {
   "display_name": "Python 3 (ipykernel)",
   "language": "python",
   "name": "python3"
  },
  "language_info": {
   "codemirror_mode": {
    "name": "ipython",
    "version": 3
   },
   "file_extension": ".py",
   "mimetype": "text/x-python",
   "name": "python",
   "nbconvert_exporter": "python",
   "pygments_lexer": "ipython3",
   "version": "3.10.4"
  }
 },
 "nbformat": 4,
 "nbformat_minor": 5
}
