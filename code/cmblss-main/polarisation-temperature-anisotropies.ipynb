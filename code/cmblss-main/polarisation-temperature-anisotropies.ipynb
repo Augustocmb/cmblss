{
 "cells": [
  {
   "cell_type": "code",
   "execution_count": 1,
   "id": "2e8e0c3b",
   "metadata": {},
   "outputs": [
    {
     "name": "stderr",
     "output_type": "stream",
     "text": [
      "\n",
      "WARNING: version mismatch between CFITSIO header (v4.000999999999999) and linked library (v4.01).\n",
      "\n",
      "\n",
      "WARNING: version mismatch between CFITSIO header (v4.000999999999999) and linked library (v4.01).\n",
      "\n",
      "\n",
      "WARNING: version mismatch between CFITSIO header (v4.000999999999999) and linked library (v4.01).\n",
      "\n"
     ]
    }
   ],
   "source": [
    "# Importing libraries\n",
    "import healpy as hp\n",
    "import matplotlib.pyplot as plt\n",
    "import numpy as np\n",
    "import pymaster as nmt"
   ]
  },
  {
   "cell_type": "code",
   "execution_count": 5,
   "id": "c8350cff",
   "metadata": {},
   "outputs": [],
   "source": [
    "#Read the map\n",
    "Planck_SMICA=hp.read_map('/home/akozameh/COM_CMB_IQU-smica_2048_R3.00_hm2.fits')"
   ]
  },
  {
   "cell_type": "code",
   "execution_count": null,
   "id": "42910d5d",
   "metadata": {},
   "outputs": [],
   "source": []
  },
  {
   "cell_type": "markdown",
   "id": "4c48f37f",
   "metadata": {},
   "source": [
    "Since we are interested in large-angular scale, the maps were degraded at NSIDE = 64 and NSIDE=16"
   ]
  },
  {
   "cell_type": "code",
   "execution_count": 7,
   "id": "80f34d0b",
   "metadata": {},
   "outputs": [],
   "source": [
    "#Planck SMICA degraded map\n",
    "Planck_1=hp.pixelfunc.ud_grade(Planck_SMICA, 64)       #degraded maps at NSIDE=64\n",
    "Planck_2=hp.pixelfunc.ud_grade(Planck_SMICA, 16)       #degraded maps at NSIDE=16"
   ]
  },
  {
   "cell_type": "code",
   "execution_count": 51,
   "id": "f871ec93",
   "metadata": {},
   "outputs": [
    {
     "data": {
      "text/plain": [
       "int"
      ]
     },
     "execution_count": 51,
     "metadata": {},
     "output_type": "execute_result"
    }
   ],
   "source": [
    "# Creating new mask in equatorial coordinates\n",
    "NSIDE = 64\n",
    "ipix=hp.nside2npix(NSIDE)\n",
    "m=np.zeros(ipix) #mask\n",
    "\n",
    "\n",
    "type(ipix)"
   ]
  },
  {
   "cell_type": "code",
   "execution_count": 124,
   "id": "5ae5e9ab",
   "metadata": {
    "scrolled": true
   },
   "outputs": [],
   "source": [
    "# I make a list of thetas and phi \n",
    "thetas=[]\n",
    "phis=[]\n",
    "for j in range(0,(ipix)):\n",
    "    theta,phi=(hp.pix2ang(NSIDE, j))\n",
    "    thetas.append(theta)\n",
    "    phis.append(phi)\n"
   ]
  },
  {
   "cell_type": "code",
   "execution_count": 125,
   "id": "529ae6ad",
   "metadata": {},
   "outputs": [],
   "source": [
    "# it makes theta and phi array by numpy array\n",
    "theta_a=np.array(thetas)\n",
    "phis_a=np.array(phis)"
   ]
  },
  {
   "cell_type": "code",
   "execution_count": 126,
   "id": "49f6822e",
   "metadata": {},
   "outputs": [
    {
     "data": {
      "text/plain": [
       "array([0.78539816, 2.35619449, 3.92699082, ..., 2.35619449, 3.92699082,\n",
       "       5.49778714])"
      ]
     },
     "execution_count": 126,
     "metadata": {},
     "output_type": "execute_result"
    }
   ],
   "source": [
    "phis_a"
   ]
  },
  {
   "cell_type": "code",
   "execution_count": 127,
   "id": "f49d5d6b",
   "metadata": {},
   "outputs": [],
   "source": [
    "# Converting the theta, phi in r.a and decl.\n",
    "decl=np.rad2deg(0.5 * np.pi - theta_a)\n",
    "ra = np.rad2deg(phis_a)"
   ]
  },
  {
   "cell_type": "code",
   "execution_count": 129,
   "id": "4e1e91b3",
   "metadata": {},
   "outputs": [
    {
     "data": {
      "text/plain": [
       "<matplotlib.collections.PathCollection at 0x7fc4892a2cb0>"
      ]
     },
     "execution_count": 129,
     "metadata": {},
     "output_type": "execute_result"
    },
    {
     "data": {
      "image/png": "[encoded data removed]",
      "text/plain": [
       "<Figure size 432x288 with 1 Axes>"
      ]
     },
     "metadata": {
      "needs_background": "light"
     },
     "output_type": "display_data"
    }
   ],
   "source": [
    "plt.scatter(decl,ra)"
   ]
  },
  {
   "cell_type": "code",
   "execution_count": 164,
   "id": "9b002622",
   "metadata": {},
   "outputs": [
    {
     "ename": "TypeError",
     "evalue": "unsupported operand type(s) for &: 'tuple' and 'tuple'",
     "output_type": "error",
     "traceback": [
      "\u001b[0;31m---------------------------------------------------------------------------\u001b[0m",
      "\u001b[0;31mTypeError\u001b[0m                                 Traceback (most recent call last)",
      "Input \u001b[0;32mIn [164]\u001b[0m, in \u001b[0;36m<cell line: 4>\u001b[0;34m()\u001b[0m\n\u001b[1;32m      2\u001b[0m clas1\u001b[38;5;241m=\u001b[39mnp\u001b[38;5;241m.\u001b[39mwhere(decl\u001b[38;5;241m>\u001b[39m\u001b[38;5;241m-\u001b[39m\u001b[38;5;241m70\u001b[39m)\u001b[38;5;66;03m# and decl<=30)\u001b[39;00m\n\u001b[1;32m      3\u001b[0m clas2\u001b[38;5;241m=\u001b[39mnp\u001b[38;5;241m.\u001b[39mwhere(decl\u001b[38;5;241m<\u001b[39m\u001b[38;5;241m30\u001b[39m)\n\u001b[0;32m----> 4\u001b[0m clas3\u001b[38;5;241m=\u001b[39m\u001b[43mclas1\u001b[49m\u001b[43m \u001b[49m\u001b[38;5;241;43m&\u001b[39;49m\u001b[43m \u001b[49m\u001b[43mclas2\u001b[49m\n",
      "\u001b[0;31mTypeError\u001b[0m: unsupported operand type(s) for &: 'tuple' and 'tuple'"
     ]
    }
   ],
   "source": [
    "# Selecting the survey class\n",
    "clas1=np.where(decl>-70)# and decl<=30)\n",
    "clas2=np.where(decl<30)\n",
    "clas3=clas1 & clas2\n",
    "#clas=clas1 clas2"
   ]
  },
  {
   "cell_type": "code",
   "execution_count": 158,
   "id": "d0d45006",
   "metadata": {},
   "outputs": [],
   "source": [
    "cond1 = decl>-70\n",
    "cond2 = decl<30\n",
    "mask  = cond1 & cond2"
   ]
  },
  {
   "cell_type": "code",
   "execution_count": 161,
   "id": "4e9a131d",
   "metadata": {},
   "outputs": [
    {
     "data": {
      "text/plain": [
       "numpy.ndarray"
      ]
     },
     "execution_count": 161,
     "metadata": {},
     "output_type": "execute_result"
    }
   ],
   "source": [
    "type(mask)"
   ]
  },
  {
   "cell_type": "code",
   "execution_count": 160,
   "id": "757c4b96",
   "metadata": {},
   "outputs": [
    {
     "data": {
      "text/plain": [
       "[<matplotlib.lines.Line2D at 0x7fc48904ed70>]"
      ]
     },
     "execution_count": 160,
     "metadata": {},
     "output_type": "execute_result"
    },
    {
     "data": {
      "image/png": "[encoded data removed]",
      "text/plain": [
       "<Figure size 432x288 with 1 Axes>"
      ]
     },
     "metadata": {
      "needs_background": "light"
     },
     "output_type": "display_data"
    }
   ],
   "source": [
    "plt.plot(decl[mask],ra[mask])"
   ]
  },
  {
   "cell_type": "code",
   "execution_count": 173,
   "id": "fabd4237",
   "metadata": {
    "scrolled": false
   },
   "outputs": [],
   "source": [
    "# Convert the decl and r.a in theta and phi\n",
    "theta = 0.5 * np.pi - np.deg2rad(decl[mask])\n",
    "phi = np.deg2rad(ra[mask])\n"
   ]
  },
  {
   "cell_type": "code",
   "execution_count": 172,
   "id": "2ede369a",
   "metadata": {},
   "outputs": [
    {
     "data": {
      "text/plain": [
       "array([12160, 12161, 12162, ..., 47637, 47638, 47639])"
      ]
     },
     "execution_count": 172,
     "metadata": {},
     "output_type": "execute_result"
    }
   ],
   "source": [
    "# It Converts theta and phi in number of pixeles\n",
    "pix=hp.ang2pix(NSIDE,theta,phi)\n",
    "pix"
   ]
  },
  {
   "cell_type": "code",
   "execution_count": 175,
   "id": "21f8ecf8",
   "metadata": {},
   "outputs": [],
   "source": [
    "m[pix]=1"
   ]
  },
  {
   "cell_type": "code",
   "execution_count": 176,
   "id": "8f8491bf",
   "metadata": {},
   "outputs": [
    {
     "data": {
      "image/png": "[encoded data removed]",
      "text/plain": [
       "<Figure size 612x388.8 with 2 Axes>"
      ]
     },
     "metadata": {
      "needs_background": "light"
     },
     "output_type": "display_data"
    }
   ],
   "source": [
    "hp.mollview(m)"
   ]
  },
  {
   "cell_type": "code",
   "execution_count": 179,
   "id": "ff058a8b",
   "metadata": {},
   "outputs": [],
   "source": [
    "rot=hp.Rotator(coord=['C','G'])  # Transforms equatorial to galactic coordinates"
   ]
  },
  {
   "cell_type": "code",
   "execution_count": null,
   "id": "02c15ae5",
   "metadata": {},
   "outputs": [],
   "source": []
  }
 ],
 "metadata": {
  "kernelspec": {
   "display_name": "Python 3 (ipykernel)",
   "language": "python",
   "name": "python3"
  },
  "language_info": {
   "codemirror_mode": {
    "name": "ipython",
    "version": 3
   },
   "file_extension": ".py",
   "mimetype": "text/x-python",
   "name": "python",
   "nbconvert_exporter": "python",
   "pygments_lexer": "ipython3",
   "version": "3.10.4"
  }
 },
 "nbformat": 4,
 "nbformat_minor": 5
}
