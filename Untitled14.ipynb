{
 "cells": [
  {
   "cell_type": "code",
   "execution_count": 1,
   "id": "b020f468",
   "metadata": {},
   "outputs": [
    {
     "name": "stderr",
     "output_type": "stream",
     "text": [
      "\n",
      "WARNING: version mismatch between CFITSIO header (v4.000999999999999) and linked library (v4.01).\n",
      "\n",
      "\n",
      "WARNING: version mismatch between CFITSIO header (v4.000999999999999) and linked library (v4.01).\n",
      "\n",
      "\n",
      "WARNING: version mismatch between CFITSIO header (v4.000999999999999) and linked library (v4.01).\n",
      "\n"
     ]
    }
   ],
   "source": [
    "import numpy as np\n",
    "import matplotlib.pyplot as plt\n",
    "import healpy as hp"
   ]
  },
  {
   "cell_type": "code",
   "execution_count": 2,
   "id": "cad9c320",
   "metadata": {},
   "outputs": [],
   "source": [
    "import psutil"
   ]
  },
  {
   "cell_type": "code",
   "execution_count": 29,
   "id": "5723e9b7",
   "metadata": {
    "scrolled": true
   },
   "outputs": [
    {
     "name": "stdout",
     "output_type": "stream",
     "text": [
      "987963392\n",
      "<class 'numpy.ndarray'>\n"
     ]
    }
   ],
   "source": [
    "map_in=hp.read_map('/home/akozameh/COM_CMB_IQU-smica_2048_R3.00_hm2.fits')\n",
    "process = psutil.Process()\n",
    "print(process.memory_info().rss)  # in bytes \n",
    "print(type(map_in))\n"
   ]
  },
  {
   "cell_type": "code",
   "execution_count": 31,
   "id": "e850111d",
   "metadata": {},
   "outputs": [
    {
     "ename": "TypeError",
     "evalue": "'tuple' object is not callable",
     "output_type": "error",
     "traceback": [
      "\u001b[0;31m---------------------------------------------------------------------------\u001b[0m",
      "\u001b[0;31mTypeError\u001b[0m                                 Traceback (most recent call last)",
      "Input \u001b[0;32mIn [31]\u001b[0m, in \u001b[0;36m<cell line: 1>\u001b[0;34m()\u001b[0m\n\u001b[0;32m----> 1\u001b[0m \u001b[43mhp\u001b[49m\u001b[38;5;241;43m.\u001b[39;49m\u001b[43mud_grade\u001b[49m\u001b[43m(\u001b[49m\u001b[43mmap_in\u001b[49m\u001b[43m,\u001b[49m\u001b[43m \u001b[49m\u001b[38;5;241;43m1024\u001b[39;49m\u001b[43m)\u001b[49m\n",
      "\u001b[0;31mTypeError\u001b[0m: 'tuple' object is not callable"
     ]
    }
   ],
   "source": [
    "hp.ud_grade(map_in, 1024)"
   ]
  },
  {
   "cell_type": "code",
   "execution_count": 25,
   "id": "cb54f815",
   "metadata": {},
   "outputs": [
    {
     "ename": "TypeError",
     "evalue": "object of type 'int' has no len()",
     "output_type": "error",
     "traceback": [
      "\u001b[0;31m---------------------------------------------------------------------------\u001b[0m",
      "\u001b[0;31mTypeError\u001b[0m                                 Traceback (most recent call last)",
      "Input \u001b[0;32mIn [25]\u001b[0m, in \u001b[0;36m<cell line: 2>\u001b[0;34m()\u001b[0m\n\u001b[1;32m      1\u001b[0m \u001b[38;5;66;03m# Degrading the map until 1024\u001b[39;00m\n\u001b[0;32m----> 2\u001b[0m map_\u001b[38;5;241m=\u001b[39m\u001b[43mhp\u001b[49m\u001b[38;5;241;43m.\u001b[39;49m\u001b[43mpixelfunc\u001b[49m\u001b[38;5;241;43m.\u001b[39;49m\u001b[43mud_grade\u001b[49m\u001b[43m(\u001b[49m\u001b[43mmap_\u001b[49m\u001b[43m,\u001b[49m\u001b[43m \u001b[49m\u001b[38;5;241;43m1024\u001b[39;49m\u001b[43m)\u001b[49m\n\u001b[1;32m      3\u001b[0m \u001b[38;5;28mprint\u001b[39m(\u001b[38;5;28mtype\u001b[39m(map_))\n",
      "File \u001b[0;32m~/miniconda3/envs/CMB/lib/python3.10/site-packages/healpy/pixelfunc.py:304\u001b[0m, in \u001b[0;36maccept_ma.<locals>.wrapper\u001b[0;34m(map_in, *args, **kwds)\u001b[0m\n\u001b[1;32m    302\u001b[0m return_ma \u001b[38;5;241m=\u001b[39m is_ma(map_in)\n\u001b[1;32m    303\u001b[0m m \u001b[38;5;241m=\u001b[39m ma_to_array(map_in)\n\u001b[0;32m--> 304\u001b[0m out \u001b[38;5;241m=\u001b[39m \u001b[43mf\u001b[49m\u001b[43m(\u001b[49m\u001b[43mm\u001b[49m\u001b[43m,\u001b[49m\u001b[43m \u001b[49m\u001b[38;5;241;43m*\u001b[39;49m\u001b[43margs\u001b[49m\u001b[43m,\u001b[49m\u001b[43m \u001b[49m\u001b[38;5;241;43m*\u001b[39;49m\u001b[38;5;241;43m*\u001b[39;49m\u001b[43mkwds\u001b[49m\u001b[43m)\u001b[49m\n\u001b[1;32m    305\u001b[0m \u001b[38;5;28;01mreturn\u001b[39;00m ma(out) \u001b[38;5;28;01mif\u001b[39;00m return_ma \u001b[38;5;28;01melse\u001b[39;00m out\n",
      "File \u001b[0;32m~/miniconda3/envs/CMB/lib/python3.10/site-packages/healpy/pixelfunc.py:1928\u001b[0m, in \u001b[0;36mud_grade\u001b[0;34m(map_in, nside_out, pess, order_in, order_out, power, dtype)\u001b[0m\n\u001b[1;32m   1890\u001b[0m \u001b[38;5;124;03m\"\"\"Upgrade or degrade resolution of a map (or list of maps).\u001b[39;00m\n\u001b[1;32m   1891\u001b[0m \n\u001b[1;32m   1892\u001b[0m \u001b[38;5;124;03min degrading the resolution, ud_grade sets the value of the superpixel\u001b[39;00m\n\u001b[0;32m   (...)\u001b[0m\n\u001b[1;32m   1925\u001b[0m \u001b[38;5;124;03m        36.5 ,  38.25,  40.  ,  41.75])\u001b[39;00m\n\u001b[1;32m   1926\u001b[0m \u001b[38;5;124;03m\"\"\"\u001b[39;00m\n\u001b[1;32m   1927\u001b[0m check_nside(nside_out, nest\u001b[38;5;241m=\u001b[39morder_in \u001b[38;5;241m!=\u001b[39m \u001b[38;5;124m\"\u001b[39m\u001b[38;5;124mRING\u001b[39m\u001b[38;5;124m\"\u001b[39m)\n\u001b[0;32m-> 1928\u001b[0m typ \u001b[38;5;241m=\u001b[39m \u001b[43mmaptype\u001b[49m\u001b[43m(\u001b[49m\u001b[43mmap_in\u001b[49m\u001b[43m)\u001b[49m\n\u001b[1;32m   1929\u001b[0m \u001b[38;5;28;01mif\u001b[39;00m typ \u001b[38;5;241m<\u001b[39m \u001b[38;5;241m0\u001b[39m:\n\u001b[1;32m   1930\u001b[0m     \u001b[38;5;28;01mraise\u001b[39;00m \u001b[38;5;167;01mTypeError\u001b[39;00m(\u001b[38;5;124m\"\u001b[39m\u001b[38;5;124mInvalid map\u001b[39m\u001b[38;5;124m\"\u001b[39m)\n",
      "File \u001b[0;32m~/miniconda3/envs/CMB/lib/python3.10/site-packages/healpy/pixelfunc.py:233\u001b[0m, in \u001b[0;36mmaptype\u001b[0;34m(m)\u001b[0m\n\u001b[1;32m    231\u001b[0m \u001b[38;5;28;01mif\u001b[39;00m npix \u001b[38;5;129;01mis\u001b[39;00m \u001b[38;5;129;01mnot\u001b[39;00m \u001b[38;5;28;01mNone\u001b[39;00m:\n\u001b[1;32m    232\u001b[0m     \u001b[38;5;28;01mfor\u001b[39;00m mm \u001b[38;5;129;01min\u001b[39;00m m[\u001b[38;5;241m1\u001b[39m:]:\n\u001b[0;32m--> 233\u001b[0m         \u001b[38;5;28;01mif\u001b[39;00m \u001b[38;5;28;43mlen\u001b[39;49m\u001b[43m(\u001b[49m\u001b[43mmm\u001b[49m\u001b[43m)\u001b[49m \u001b[38;5;241m!=\u001b[39m npix:\n\u001b[1;32m    234\u001b[0m             \u001b[38;5;28;01mraise\u001b[39;00m \u001b[38;5;167;01mTypeError\u001b[39;00m(\u001b[38;5;124m\"\u001b[39m\u001b[38;5;124minput maps have different npix\u001b[39m\u001b[38;5;124m\"\u001b[39m)\n\u001b[1;32m    235\u001b[0m     \u001b[38;5;28;01mif\u001b[39;00m isnpixok(\u001b[38;5;28mlen\u001b[39m(m[\u001b[38;5;241m0\u001b[39m])):\n",
      "\u001b[0;31mTypeError\u001b[0m: object of type 'int' has no len()"
     ]
    }
   ],
   "source": [
    "# Degrading the map until 1024\n",
    "map_=hp.pixelfunc.ud_grade(map_, 1024)\n",
    "print(type(map_))"
   ]
  },
  {
   "cell_type": "code",
   "execution_count": 23,
   "id": "1f08b047",
   "metadata": {},
   "outputs": [
    {
     "ename": "TypeError",
     "evalue": "object of type 'int' has no len()",
     "output_type": "error",
     "traceback": [
      "\u001b[0;31m---------------------------------------------------------------------------\u001b[0m",
      "\u001b[0;31mTypeError\u001b[0m                                 Traceback (most recent call last)",
      "Input \u001b[0;32mIn [23]\u001b[0m, in \u001b[0;36m<cell line: 1>\u001b[0;34m()\u001b[0m\n\u001b[0;32m----> 1\u001b[0m \u001b[43mhp\u001b[49m\u001b[38;5;241;43m.\u001b[39;49m\u001b[43mmollview\u001b[49m\u001b[43m(\u001b[49m\u001b[43mmap_\u001b[49m\u001b[43m)\u001b[49m\n\u001b[1;32m      2\u001b[0m process \u001b[38;5;241m=\u001b[39m psutil\u001b[38;5;241m.\u001b[39mProcess()\n\u001b[1;32m      3\u001b[0m \u001b[38;5;28mprint\u001b[39m(process\u001b[38;5;241m.\u001b[39mmemory_info()\u001b[38;5;241m.\u001b[39mrss)\n",
      "File \u001b[0;32m~/miniconda3/envs/CMB/lib/python3.10/site-packages/healpy/visufunc.py:196\u001b[0m, in \u001b[0;36mmollview\u001b[0;34m(map, fig, rot, coord, unit, xsize, title, nest, min, max, flip, remove_dip, remove_mono, gal_cut, format, format2, cbar, cmap, badcolor, bgcolor, notext, norm, hold, reuse_axes, margins, sub, nlocs, return_projected_map, alpha)\u001b[0m\n\u001b[1;32m    193\u001b[0m     cbar \u001b[38;5;241m=\u001b[39m \u001b[38;5;28;01mFalse\u001b[39;00m\n\u001b[1;32m    195\u001b[0m \u001b[38;5;66;03m# Ensure that the nside is valid\u001b[39;00m\n\u001b[0;32m--> 196\u001b[0m nside \u001b[38;5;241m=\u001b[39m \u001b[43mpixelfunc\u001b[49m\u001b[38;5;241;43m.\u001b[39;49m\u001b[43mget_nside\u001b[49m\u001b[43m(\u001b[49m\u001b[38;5;28;43mmap\u001b[39;49m\u001b[43m)\u001b[49m\n\u001b[1;32m    197\u001b[0m pixelfunc\u001b[38;5;241m.\u001b[39mcheck_nside(nside, nest\u001b[38;5;241m=\u001b[39mnest)\n\u001b[1;32m    199\u001b[0m \u001b[38;5;28;01mif\u001b[39;00m \u001b[38;5;129;01mnot\u001b[39;00m (hold \u001b[38;5;129;01mor\u001b[39;00m sub \u001b[38;5;129;01mor\u001b[39;00m reuse_axes):\n",
      "File \u001b[0;32m~/miniconda3/envs/CMB/lib/python3.10/site-packages/healpy/pixelfunc.py:1873\u001b[0m, in \u001b[0;36mget_nside\u001b[0;34m(m)\u001b[0m\n\u001b[1;32m   1854\u001b[0m \u001b[38;5;28;01mdef\u001b[39;00m \u001b[38;5;21mget_nside\u001b[39m(m):\n\u001b[1;32m   1855\u001b[0m     \u001b[38;5;124;03m\"\"\"Return the nside of the given map.\u001b[39;00m\n\u001b[1;32m   1856\u001b[0m \n\u001b[1;32m   1857\u001b[0m \u001b[38;5;124;03m    Parameters\u001b[39;00m\n\u001b[0;32m   (...)\u001b[0m\n\u001b[1;32m   1871\u001b[0m \u001b[38;5;124;03m    a TypeError exception is raised.\u001b[39;00m\n\u001b[1;32m   1872\u001b[0m \u001b[38;5;124;03m    \"\"\"\u001b[39;00m\n\u001b[0;32m-> 1873\u001b[0m     typ \u001b[38;5;241m=\u001b[39m \u001b[43mmaptype\u001b[49m\u001b[43m(\u001b[49m\u001b[43mm\u001b[49m\u001b[43m)\u001b[49m\n\u001b[1;32m   1874\u001b[0m     \u001b[38;5;28;01mif\u001b[39;00m typ \u001b[38;5;241m==\u001b[39m \u001b[38;5;241m0\u001b[39m:\n\u001b[1;32m   1875\u001b[0m         \u001b[38;5;28;01mreturn\u001b[39;00m npix2nside(\u001b[38;5;28mlen\u001b[39m(m))\n",
      "File \u001b[0;32m~/miniconda3/envs/CMB/lib/python3.10/site-packages/healpy/pixelfunc.py:233\u001b[0m, in \u001b[0;36mmaptype\u001b[0;34m(m)\u001b[0m\n\u001b[1;32m    231\u001b[0m \u001b[38;5;28;01mif\u001b[39;00m npix \u001b[38;5;129;01mis\u001b[39;00m \u001b[38;5;129;01mnot\u001b[39;00m \u001b[38;5;28;01mNone\u001b[39;00m:\n\u001b[1;32m    232\u001b[0m     \u001b[38;5;28;01mfor\u001b[39;00m mm \u001b[38;5;129;01min\u001b[39;00m m[\u001b[38;5;241m1\u001b[39m:]:\n\u001b[0;32m--> 233\u001b[0m         \u001b[38;5;28;01mif\u001b[39;00m \u001b[38;5;28;43mlen\u001b[39;49m\u001b[43m(\u001b[49m\u001b[43mmm\u001b[49m\u001b[43m)\u001b[49m \u001b[38;5;241m!=\u001b[39m npix:\n\u001b[1;32m    234\u001b[0m             \u001b[38;5;28;01mraise\u001b[39;00m \u001b[38;5;167;01mTypeError\u001b[39;00m(\u001b[38;5;124m\"\u001b[39m\u001b[38;5;124minput maps have different npix\u001b[39m\u001b[38;5;124m\"\u001b[39m)\n\u001b[1;32m    235\u001b[0m     \u001b[38;5;28;01mif\u001b[39;00m isnpixok(\u001b[38;5;28mlen\u001b[39m(m[\u001b[38;5;241m0\u001b[39m])):\n",
      "\u001b[0;31mTypeError\u001b[0m: object of type 'int' has no len()"
     ]
    }
   ],
   "source": [
    "hp.mollview(map_)\n",
    "process = psutil.Process()\n",
    "print(process.memory_info().rss)  # in bytes "
   ]
  },
  {
   "cell_type": "code",
   "execution_count": 10,
   "id": "16160127",
   "metadata": {},
   "outputs": [],
   "source": [
    "map_2=hp.ud_grade=(map_1, 512)"
   ]
  },
  {
   "cell_type": "code",
   "execution_count": 11,
   "id": "a21c39b0",
   "metadata": {},
   "outputs": [
    {
     "name": "stdout",
     "output_type": "stream",
     "text": [
      "354242560\n"
     ]
    }
   ],
   "source": [
    "map_2\n",
    "process = psutil.Process()\n",
    "print(process.memory_info().rss)  # in bytes "
   ]
  },
  {
   "cell_type": "code",
   "execution_count": null,
   "id": "f974a15c",
   "metadata": {},
   "outputs": [],
   "source": [
    "hp"
   ]
  }
 ],
 "metadata": {
  "kernelspec": {
   "display_name": "Python 3 (ipykernel)",
   "language": "python",
   "name": "python3"
  },
  "language_info": {
   "codemirror_mode": {
    "name": "ipython",
    "version": 3
   },
   "file_extension": ".py",
   "mimetype": "text/x-python",
   "name": "python",
   "nbconvert_exporter": "python",
   "pygments_lexer": "ipython3",
   "version": "3.10.4"
  }
 },
 "nbformat": 4,
 "nbformat_minor": 5
}
