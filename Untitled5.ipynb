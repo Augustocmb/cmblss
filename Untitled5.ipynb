{
 "cells": [
  {
   "cell_type": "code",
   "execution_count": 4,
   "id": "7ff3096e",
   "metadata": {},
   "outputs": [],
   "source": [
    "# Importing libraries\n",
    "import healpy as hp\n",
    "import matplotlib.pyplot as plt\n",
    "import numpy as np"
   ]
  },
  {
   "cell_type": "code",
   "execution_count": 5,
   "id": "c8531c6b",
   "metadata": {},
   "outputs": [],
   "source": [
    "#Read the map\n",
    "Planck_SMICA=hp.read_map('/home/akozameh/COM_CMB_IQU-smica_2048_R3.00_hm2.fits')"
   ]
  },
  {
   "cell_type": "markdown",
   "id": "4be19032",
   "metadata": {},
   "source": [
    "Since we are interested in large-angular scale, the maps were degraded at NSIDE = 64 and NSIDE=16"
   ]
  },
  {
   "cell_type": "code",
   "execution_count": 7,
   "id": "dcbd9783",
   "metadata": {},
   "outputs": [],
   "source": [
    "#Planck SMICA degraded map\n",
    "Planck_1=hp.pixelfunc.ud_grade(Planck_SMICA, 64)       #degraded maps at NSIDE=64\n",
    "Planck_2=hp.pixelfunc.ud_grade(Planck_SMICA, 16)       #degraded maps at NSIDE=16"
   ]
  },
  {
   "cell_type": "code",
   "execution_count": null,
   "id": "ad86b671",
   "metadata": {},
   "outputs": [],
   "source": []
  }
 ],
 "metadata": {
  "kernelspec": {
   "display_name": "Python 3 (ipykernel)",
   "language": "python",
   "name": "python3"
  },
  "language_info": {
   "codemirror_mode": {
    "name": "ipython",
    "version": 3
   },
   "file_extension": ".py",
   "mimetype": "text/x-python",
   "name": "python",
   "nbconvert_exporter": "python",
   "pygments_lexer": "ipython3",
   "version": "3.10.4"
  }
 },
 "nbformat": 4,
 "nbformat_minor": 5
}
