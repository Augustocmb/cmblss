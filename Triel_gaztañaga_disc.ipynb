{
 "cells": [
  {
   "cell_type": "markdown",
   "id": "12e38e6a",
   "metadata": {},
   "source": [
    "### To compute the pseudo-Cls for a specific disc I need first define it."
   ]
  },
  {
   "cell_type": "code",
   "execution_count": 1,
   "id": "7727d0eb",
   "metadata": {},
   "outputs": [
    {
     "name": "stderr",
     "output_type": "stream",
     "text": [
      "\n",
      "WARNING: version mismatch between CFITSIO header (v4.000999999999999) and linked library (v4.01).\n",
      "\n",
      "\n",
      "WARNING: version mismatch between CFITSIO header (v4.000999999999999) and linked library (v4.01).\n",
      "\n",
      "\n",
      "WARNING: version mismatch between CFITSIO header (v4.000999999999999) and linked library (v4.01).\n",
      "\n"
     ]
    }
   ],
   "source": [
    "import numpy as np\n",
    "import healpy as hp\n",
    "import matplotlib.pyplot as plt\n",
    "import pymaster as nmt"
   ]
  },
  {
   "cell_type": "code",
   "execution_count": 2,
   "id": "fbef3d4c",
   "metadata": {},
   "outputs": [],
   "source": [
    "# Reading the map and masks\n",
    "planck_map = hp.read_map('/home/akozameh/cmblss/data/COM_CMB_IQU-smica_2048_R3.00_oe2.fits')\n",
    "m_1 = hp.read_map('/home/akozameh/cmblss/data/COM_Mask_CMB-common-Mask-Int_2048_R3.00.fits')\n",
    "m_2 = hp.read_map('/home/akozameh/cmblss/data/COM_Mask_CMB-HM-Misspix-Mask-Int_2048_R3.00.fits')"
   ]
  },
  {
   "cell_type": "code",
   "execution_count": 3,
   "id": "41591933",
   "metadata": {},
   "outputs": [],
   "source": [
    "# Convert masks to numpy arrays with boolean dtype\n",
    "m_1 = np.array(m_1, dtype=bool)\n",
    "m_2 = np.array(m_2, dtype=bool)"
   ]
  },
  {
   "cell_type": "code",
   "execution_count": 4,
   "id": "797b98c2",
   "metadata": {},
   "outputs": [],
   "source": [
    "# Combine masks using AND (common mask + Odd-Even missing pixels)\n",
    "combined_mask = m_1 & m_2"
   ]
  },
  {
   "cell_type": "code",
   "execution_count": 5,
   "id": "54886733",
   "metadata": {},
   "outputs": [
    {
     "name": "stderr",
     "output_type": "stream",
     "text": [
      "setting the output map dtype to [dtype('bool')]\n"
     ]
    },
    {
     "data": {
      "image/png": "[encoded data removed]",
      "text/plain": [
       "<Figure size 612x388.8 with 2 Axes>"
      ]
     },
     "metadata": {
      "needs_background": "light"
     },
     "output_type": "display_data"
    }
   ],
   "source": [
    "# Visualize the combined mask\n",
    "hp.mollview(combined_mask)\n",
    "hp.write_map(\"combined_mask.fits\", combined_mask, overwrite=True)\n"
   ]
  },
  {
   "cell_type": "code",
   "execution_count": 6,
   "id": "71b15b78",
   "metadata": {},
   "outputs": [],
   "source": [
    "# Apply the combined mask to the map\n",
    "mask_1 = hp.read_map('combined_mask.fits')\n",
    "smica_masked = hp.ma(planck_map)\n",
    "smica_masked.mask = np.logical_not(mask_1)"
   ]
  },
  {
   "cell_type": "code",
   "execution_count": 7,
   "id": "57d492b8",
   "metadata": {},
   "outputs": [],
   "source": [
    "# Smoothing the map\n",
    "smica_masked = hp.smoothing(smica_masked, fwhm=np.radians(1.0))"
   ]
  },
  {
   "cell_type": "code",
   "execution_count": 8,
   "id": "5f5a38ea",
   "metadata": {},
   "outputs": [],
   "source": [
    "# Downgrade the resolution of the map to NSIDE=4\n",
    "nside_low = 4\n",
    "smica_masked_low = hp.ud_grade(smica_masked, nside_low)"
   ]
  },
  {
   "cell_type": "code",
   "execution_count": 9,
   "id": "c7e54d30",
   "metadata": {},
   "outputs": [],
   "source": [
    "# Number of pixels of map at this resolution\n",
    "NPIX = hp.nside2npix(nside_low)"
   ]
  },
  {
   "cell_type": "code",
   "execution_count": 10,
   "id": "f670e920",
   "metadata": {},
   "outputs": [],
   "source": [
    "# Retrieve the colatitude and longitude of each pixel on the map\n",
    "theta, phi = hp.pix2ang(nside=nside_low, ipix=np.arange(NPIX))\n",
    "vec = hp.ang2vec(theta, phi)"
   ]
  },
  {
   "cell_type": "code",
   "execution_count": 11,
   "id": "7ed1ab37",
   "metadata": {},
   "outputs": [],
   "source": [
    "# Set the radius of the disc to 60 degrees\n",
    "radius = np.radians(60.)\n",
    "v = vec[0]  # Choosing the first vector for the disc center\n",
    "disc = hp.query_disc(nside_low, v, radius)"
   ]
  },
  {
   "cell_type": "code",
   "execution_count": 12,
   "id": "092a70a8",
   "metadata": {},
   "outputs": [],
   "source": [
    "# Create the disc mask at high resolution\n",
    "nside_high = 16\n",
    "disc_mask = np.zeros(hp.nside2npix(nside_high), dtype=bool)\n",
    "disc_mask[disc] = True"
   ]
  },
  {
   "cell_type": "code",
   "execution_count": 13,
   "id": "66d6a389",
   "metadata": {},
   "outputs": [],
   "source": [
    "# Upgrade the combined mask to the same resolution\n",
    "combined_mask_high = hp.ud_grade(combined_mask, nside_high)"
   ]
  },
  {
   "cell_type": "code",
   "execution_count": 14,
   "id": "c9b8ac96",
   "metadata": {},
   "outputs": [],
   "source": [
    "# Create the final mask by combining the disc mask and the Planck mask\n",
    "final_mask = disc_mask & combined_mask_high"
   ]
  },
  {
   "cell_type": "code",
   "execution_count": 15,
   "id": "ea545b5c",
   "metadata": {},
   "outputs": [],
   "source": [
    "# Apply the final mask to the CMB map\n",
    "smica_high = hp.ud_grade(planck_map, nside_high)\n",
    "smica_masked_high = hp.ma(smica_high)\n",
    "smica_masked_high.mask = np.logical_not(final_mask)\n"
   ]
  },
  {
   "cell_type": "code",
   "execution_count": 20,
   "id": "1e7689d1",
   "metadata": {},
   "outputs": [],
   "source": [
    "# Compute Cls using NaMaster\n",
    "f_0 = nmt.NmtField(final_mask, [smica_masked_high])\n",
    "# Initialize binning scheme with 4 ells per bandpower\n",
    "b = nmt.NmtBin.from_nside_linear(nside_high, 4)"
   ]
  },
  {
   "cell_type": "code",
   "execution_count": 21,
   "id": "ab0a9502",
   "metadata": {},
   "outputs": [],
   "source": [
    "# Compute MASTER estimator\n",
    "# spin-0 x spin-0\n",
    "cl_00 = nmt.compute_full_master(f_0, f_0, b)"
   ]
  },
  {
   "cell_type": "code",
   "execution_count": 22,
   "id": "e18b0bf8",
   "metadata": {},
   "outputs": [
    {
     "data": {
      "image/png": "[encoded data removed]",
      "text/plain": [
       "<Figure size 432x288 with 1 Axes>"
      ]
     },
     "metadata": {
      "needs_background": "light"
     },
     "output_type": "display_data"
    }
   ],
   "source": [
    "# Plot results\n",
    "ell_arr = b.get_effective_ells()\n",
    "plt.plot(ell_arr, cl_00[0]*ell_arr*(ell_arr+1)*[(1e6)**(2)]/2/np.pi, 'r-', label='TT for disc')\n",
    "plt.xlabel('$\\ell$')\n",
    "plt.ylabel('$C_\\ell$')\n",
    "plt.title('Power Spectrum for Disc Region')\n",
    "plt.show()"
   ]
  },
  {
   "cell_type": "code",
   "execution_count": null,
   "id": "d949b398",
   "metadata": {},
   "outputs": [],
   "source": []
  }
 ],
 "metadata": {
  "kernelspec": {
   "display_name": "Python 3 (ipykernel)",
   "language": "python",
   "name": "python3"
  },
  "language_info": {
   "codemirror_mode": {
    "name": "ipython",
    "version": 3
   },
   "file_extension": ".py",
   "mimetype": "text/x-python",
   "name": "python",
   "nbconvert_exporter": "python",
   "pygments_lexer": "ipython3",
   "version": "3.10.4"
  }
 },
 "nbformat": 4,
 "nbformat_minor": 5
}
