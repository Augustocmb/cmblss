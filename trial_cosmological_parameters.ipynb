{
 "cells": [
  {
   "cell_type": "markdown",
   "id": "ffe2a3a1",
   "metadata": {},
   "source": [
    "## In this code I am gonna  to perform the parameters exploration using Planck 2018 TT (Planck collaboration 2018) Cl data  together with Cobaya sampling (Torrado & Lewis, 2022) and GetDist"
   ]
  },
  {
   "cell_type": "code",
   "execution_count": 50,
   "id": "3e074601",
   "metadata": {},
   "outputs": [
    {
     "name": "stderr",
     "output_type": "stream",
     "text": [
      "\n",
      "WARNING: version mismatch between CFITSIO header (v4.000999999999999) and linked library (v4.01).\n",
      "\n",
      "\n",
      "WARNING: version mismatch between CFITSIO header (v4.000999999999999) and linked library (v4.01).\n",
      "\n",
      "\n",
      "WARNING: version mismatch between CFITSIO header (v4.000999999999999) and linked library (v4.01).\n",
      "\n"
     ]
    }
   ],
   "source": [
    "# Importing libraries\n",
    "# Configuration\n",
    "%matplotlib inline\n",
    "%config InlineBackend.figure_format = 'retina'\n",
    "import camb\n",
    "import sys, platform, os\n",
    "try:\n",
    "    from cobaya import run\n",
    "except ImportError:\n",
    "    sys.path.insert(0,'../../cobaya')\n",
    "    from cobaya import run\n",
    "import numpy as np\n",
    "import matplotlib.pyplot as plt\n",
    "import getdist\n",
    "from getdist import plots, MCSamples\n",
    "import healpy as hp"
   ]
  },
  {
   "cell_type": "markdown",
   "id": "863a102d",
   "metadata": {},
   "source": [
    "Load the Planck data"
   ]
  },
  {
   "cell_type": "markdown",
   "id": "9b1eeaf2",
   "metadata": {},
   "source": [
    "Ploting the spectra"
   ]
  },
  {
   "cell_type": "markdown",
   "id": "34e297b9",
   "metadata": {},
   "source": [
    "We compute the theoretical cls with Camb to make a cmb map"
   ]
  },
  {
   "cell_type": "code",
   "execution_count": 46,
   "id": "8c3c8aab",
   "metadata": {},
   "outputs": [
    {
     "name": "stdout",
     "output_type": "stream",
     "text": [
      "class: <CAMBparams>\n",
      " WantCls = True\n",
      " WantTransfer = False\n",
      " WantScalars = True\n",
      " WantTensors = False\n",
      " WantVectors = False\n",
      " WantDerivedParameters = True\n",
      " Want_cl_2D_array = True\n",
      " Want_CMB = True\n",
      " Want_CMB_lensing = True\n",
      " DoLensing = True\n",
      " NonLinear = NonLinear_none\n",
      " Transfer: <TransferParams>\n",
      "   high_precision = False\n",
      "   accurate_massive_neutrinos = False\n",
      "   kmax = 0.9\n",
      "   k_per_logint = 0\n",
      "   PK_num_redshifts = 1\n",
      "   PK_redshifts = [0.0]\n",
      " want_zstar = False\n",
      " want_zdrag = False\n",
      " min_l = 2\n",
      " max_l = 2150\n",
      " max_l_tensor = 600\n",
      " max_eta_k = 5375.0\n",
      " max_eta_k_tensor = 1200.0\n",
      " ombh2 = 0.0224\n",
      " omch2 = 0.12\n",
      " omk = 0.0\n",
      " omnuh2 = 0.000644866570625114\n",
      " H0 = 67.4\n",
      " TCMB = 2.7255\n",
      " YHe = 0.24586829360147697\n",
      " num_nu_massless = 2.0293333333333337\n",
      " num_nu_massive = 1\n",
      " nu_mass_eigenstates = 1\n",
      " share_delta_neff = False\n",
      " nu_mass_degeneracies = [1.0146666666666666]\n",
      " nu_mass_fractions = [1.0]\n",
      " nu_mass_numbers = [1]\n",
      " InitPower: <InitialPowerLaw>\n",
      "   tensor_parameterization = tensor_param_rpivot\n",
      "   ns = 0.965\n",
      "   nrun = 0.0\n",
      "   nrunrun = 0.0\n",
      "   nt = -0.0\n",
      "   ntrun = -0.0\n",
      "   r = 0.0\n",
      "   pivot_scalar = 0.05\n",
      "   pivot_tensor = 0.05\n",
      "   As = 2e-09\n",
      "   At = 1.0\n",
      " Recomb: <Recfast>\n",
      "   min_a_evolve_Tm = 0.0011098779505118728\n",
      "   RECFAST_fudge = 1.125\n",
      "   RECFAST_fudge_He = 0.86\n",
      "   RECFAST_Heswitch = 6\n",
      "   RECFAST_Hswitch = True\n",
      "   AGauss1 = -0.14\n",
      "   AGauss2 = 0.079\n",
      "   zGauss1 = 7.28\n",
      "   zGauss2 = 6.73\n",
      "   wGauss1 = 0.18\n",
      "   wGauss2 = 0.33\n",
      " Reion: <TanhReionization>\n",
      "   Reionization = True\n",
      "   use_optical_depth = True\n",
      "   redshift = 10.0\n",
      "   optical_depth = 0.054\n",
      "   fraction = -1.0\n",
      "   include_helium_fullreion = True\n",
      "   helium_redshift = 3.5\n",
      "   helium_delta_redshift = 0.4\n",
      "   helium_redshiftstart = 5.5\n",
      "   tau_solve_accuracy_boost = 1.0\n",
      "   timestep_boost = 1.0\n",
      "   max_redshift = 50.0\n",
      "   delta_redshift = 0.5\n",
      " DarkEnergy: <DarkEnergyFluid>\n",
      "   w = -1.0\n",
      "   wa = 0.0\n",
      "   cs2 = 1.0\n",
      "   use_tabulated_w = False\n",
      " NonLinearModel: <Halofit>\n",
      "   Min_kh_nonlinear = 0.005\n",
      "   halofit_version = mead2020\n",
      "   HMCode_A_baryon = 3.13\n",
      "   HMCode_eta_baryon = 0.603\n",
      "   HMCode_logT_AGN = 7.8\n",
      " Accuracy: <AccuracyParams>\n",
      "   AccuracyBoost = 1.0\n",
      "   lSampleBoost = 1.0\n",
      "   lAccuracyBoost = 1.0\n",
      "   AccuratePolarization = True\n",
      "   AccurateBB = False\n",
      "   AccurateReionization = True\n",
      "   TimeStepBoost = 1.0\n",
      "   BackgroundTimeStepBoost = 1.0\n",
      "   IntTolBoost = 1.0\n",
      "   SourcekAccuracyBoost = 1.0\n",
      "   IntkAccuracyBoost = 1.0\n",
      "   TransferkBoost = 1.0\n",
      "   NonFlatIntAccuracyBoost = 1.0\n",
      "   BessIntBoost = 1.0\n",
      "   LensingBoost = 1.0\n",
      "   NonlinSourceBoost = 1.0\n",
      "   BesselBoost = 1.0\n",
      "   LimberBoost = 1.0\n",
      "   SourceLimberBoost = 1.0\n",
      "   KmaxBoost = 1.0\n",
      "   neutrino_q_boost = 1.0\n",
      " SourceTerms: <SourceTermParams>\n",
      "   limber_windows = True\n",
      "   limber_phi_lmin = 100\n",
      "   counts_density = True\n",
      "   counts_redshift = True\n",
      "   counts_lensing = False\n",
      "   counts_velocity = True\n",
      "   counts_radial = False\n",
      "   counts_timedelay = True\n",
      "   counts_ISW = True\n",
      "   counts_potential = True\n",
      "   counts_evolve = False\n",
      "   line_phot_dipole = False\n",
      "   line_phot_quadrupole = False\n",
      "   line_basic = True\n",
      "   line_distortions = True\n",
      "   line_extra = False\n",
      "   line_reionization = False\n",
      "   use_21cm_mK = True\n",
      " z_outputs = []\n",
      " scalar_initial_condition = initial_adiabatic\n",
      " InitialConditionVector = []\n",
      " OutputNormalization = 1\n",
      " Alens = 1.0\n",
      " MassiveNuMethod = Nu_best\n",
      " DoLateRadTruncation = True\n",
      " Evolve_baryon_cs = False\n",
      " Evolve_delta_xe = False\n",
      " Evolve_delta_Ts = False\n",
      " Do21cm = False\n",
      " transfer_21cm_cl = False\n",
      " Log_lvalues = False\n",
      " use_cl_spline_template = True\n",
      " min_l_logl_sampling = 5000\n",
      " SourceWindows = []\n",
      " CustomSources: <CustomSources>\n",
      "   num_custom_sources = 0\n",
      "   c_source_func = None\n",
      "   custom_source_ell_scales = []\n",
      " \n"
     ]
    }
   ],
   "source": [
    "# Hypothetical function to compute the theoretical power spectrum\n",
    "def theoretical_Cls(H0, ombh2, omch2, mnu, omk, tau, As, ns, lmax):\n",
    "    # Set up a new set of parameters for CAMB\n",
    "    pars = camb.set_params(H0=H0, ombh2=ombh2, omch2=omch2, mnu=mnu, omk=omk, tau=tau,  \n",
    "                           As=As, ns=ns, lmax=lmax)\n",
    "    # Ensure lmax is an integer\n",
    "    lmax = int(lmax)\n",
    "    print(pars)\n",
    "    # Calculate results for these parameters\n",
    "    results = camb.get_results(pars)\n",
    "    powers = results.get_cmb_power_spectra(pars, CMB_unit='muK')\n",
    "    totCL = powers['total']  # Get the total power spectrum (including lensed scalar)\n",
    "\n",
    "    # Extract the theoretical power spectrum (Dl_th)\n",
    "    Dl_th = totCL[:, 0]  # TT spectrum is the first column\n",
    "\n",
    "    # Get the corresponding ell values\n",
    "    ells = np.arange(0, lmax + 1)\n",
    "    \n",
    "    return ells, Dl_th\n",
    "# Define cosmological parameters and lmax\n",
    "lmax = 2000\n",
    "H0 = 67.4\n",
    "ombh2 = 0.0224\n",
    "omch2 = 0.120\n",
    "mnu = 0.06\n",
    "omk = 0.0\n",
    "tau =  0.054\n",
    "As = 2e-9\n",
    "ns = 0.965\n",
    "\n",
    "# Compute the theoretical power spectrum\n",
    "ells, Dl_th = theoretical_Cls(H0, ombh2, omch2, mnu, omk, tau, As, ns, lmax)"
   ]
  },
  {
   "cell_type": "markdown",
   "id": "5e33a7b5",
   "metadata": {},
   "source": [
    "# Generate a CMB map realization"
   ]
  },
  {
   "cell_type": "code",
   "execution_count": 53,
   "id": "1c8336c9",
   "metadata": {},
   "outputs": [],
   "source": [
    "seed=583\n",
    "np.random.seed(seed)\n",
    "nside=1024"
   ]
  },
  {
   "cell_type": "code",
   "execution_count": 54,
   "id": "137d4861",
   "metadata": {},
   "outputs": [],
   "source": [
    "alm=hp.synalm((Dl_th), lmax=lmax)"
   ]
  },
  {
   "cell_type": "code",
   "execution_count": 55,
   "id": "83b226bb",
   "metadata": {},
   "outputs": [],
   "source": [
    "cmb_map=hp.alm2map(alm, nside=nside, lmax=lmax)"
   ]
  },
  {
   "cell_type": "code",
   "execution_count": 62,
   "id": "7f8b05b1",
   "metadata": {},
   "outputs": [],
   "source": [
    "cl = hp.anafast(cmb_map, lmax=lmax, use_pixel_weights=True) * 1e12 # in muK^2\n",
    "ell = np.arange(len(cl))\n",
    "cl *= ell * (ell+1) / (2*np.pi)"
   ]
  },
  {
   "cell_type": "code",
   "execution_count": 64,
   "id": "93bbb046",
   "metadata": {},
   "outputs": [
    {
     "data": {
      "text/plain": [
       "(2001,)"
      ]
     },
     "execution_count": 64,
     "metadata": {},
     "output_type": "execute_result"
    }
   ],
   "source": [
    "cl.shape"
   ]
  },
  {
   "cell_type": "code",
   "execution_count": 65,
   "id": "247d37f4",
   "metadata": {},
   "outputs": [
    {
     "ename": "TypeError",
     "evalue": "'tuple' object is not callable",
     "output_type": "error",
     "traceback": [
      "\u001b[0;31m---------------------------------------------------------------------------\u001b[0m",
      "\u001b[0;31mTypeError\u001b[0m                                 Traceback (most recent call last)",
      "Input \u001b[0;32mIn [65]\u001b[0m, in \u001b[0;36m<cell line: 1>\u001b[0;34m()\u001b[0m\n\u001b[0;32m----> 1\u001b[0m \u001b[43mplt\u001b[49m\u001b[38;5;241;43m.\u001b[39;49m\u001b[43mplot\u001b[49m\u001b[43m(\u001b[49m\u001b[43mell\u001b[49m\u001b[43m,\u001b[49m\u001b[43m \u001b[49m\u001b[43mcl\u001b[49m\u001b[43m,\u001b[49m\u001b[43m \u001b[49m\u001b[38;5;124;43m'\u001b[39;49m\u001b[38;5;124;43m--\u001b[39;49m\u001b[38;5;124;43m'\u001b[39;49m\u001b[43m)\u001b[49m\n\u001b[1;32m      2\u001b[0m plt\u001b[38;5;241m.\u001b[39mplot(ells, Dl_th)\n\u001b[1;32m      3\u001b[0m plt\u001b[38;5;241m.\u001b[39mxlabel(\u001b[38;5;124mr\u001b[39m\u001b[38;5;124m\"\u001b[39m\u001b[38;5;124m$\u001b[39m\u001b[38;5;124m\\\u001b[39m\u001b[38;5;124mell$\u001b[39m\u001b[38;5;124m\"\u001b[39m)\n",
      "\u001b[0;31mTypeError\u001b[0m: 'tuple' object is not callable"
     ]
    }
   ],
   "source": [
    "plt.plot(ell, cl, '--')\n",
    "plt.plot(ells, Dl_th)\n",
    "plt.xlabel(r\"$\\ell$\")\n",
    "plt.ylabel(r\"$\\dfrac{\\ell(\\ell+1)}{2\\pi} C_\\ell~[\\mu K^2]$\")\n",
    "plt.xlim([2, 2500])\n",
    "plt.show()\n"
   ]
  },
  {
   "cell_type": "code",
   "execution_count": null,
   "id": "ac1cbfd8",
   "metadata": {},
   "outputs": [],
   "source": []
  }
 ],
 "metadata": {
  "kernelspec": {
   "display_name": "Python 3 (ipykernel)",
   "language": "python",
   "name": "python3"
  },
  "language_info": {
   "codemirror_mode": {
    "name": "ipython",
    "version": 3
   },
   "file_extension": ".py",
   "mimetype": "text/x-python",
   "name": "python",
   "nbconvert_exporter": "python",
   "pygments_lexer": "ipython3",
   "version": "3.10.4"
  }
 },
 "nbformat": 4,
 "nbformat_minor": 5
}
