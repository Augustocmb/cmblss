{
 "cells": [
  {
   "cell_type": "code",
   "execution_count": 1,
   "id": "2e8e0c3b",
   "metadata": {},
   "outputs": [
    {
     "name": "stderr",
     "output_type": "stream",
     "text": [
      "\n",
      "WARNING: version mismatch between CFITSIO header (v4.000999999999999) and linked library (v4.01).\n",
      "\n",
      "\n",
      "WARNING: version mismatch between CFITSIO header (v4.000999999999999) and linked library (v4.01).\n",
      "\n",
      "\n",
      "WARNING: version mismatch between CFITSIO header (v4.000999999999999) and linked library (v4.01).\n",
      "\n"
     ]
    }
   ],
   "source": [
    "# Importing libraries\n",
    "import healpy as hp\n",
    "import matplotlib.pyplot as plt\n",
    "import numpy as np\n",
    "import pymaster as nmt"
   ]
  },
  {
   "cell_type": "code",
   "execution_count": 5,
   "id": "c8350cff",
   "metadata": {},
   "outputs": [],
   "source": [
    "#Read the map\n",
    "Planck_SMICA=hp.read_map('/home/akozameh/COM_CMB_IQU-smica_2048_R3.00_hm2.fits')"
   ]
  },
  {
   "cell_type": "code",
   "execution_count": null,
   "id": "df67a2ae",
   "metadata": {},
   "outputs": [],
   "source": []
  },
  {
   "cell_type": "markdown",
   "id": "4c48f37f",
   "metadata": {},
   "source": [
    "Since we are interested in large-angular scale, the maps were degraded at NSIDE = 64 and NSIDE=16"
   ]
  },
  {
   "cell_type": "code",
   "execution_count": 7,
   "id": "80f34d0b",
   "metadata": {},
   "outputs": [],
   "source": [
    "#Planck SMICA degraded map\n",
    "Planck_1=hp.pixelfunc.ud_grade(Planck_SMICA, 64)       #degraded maps at NSIDE=64\n",
    "Planck_2=hp.pixelfunc.ud_grade(Planck_SMICA, 16)       #degraded maps at NSIDE=16"
   ]
  },
  {
   "cell_type": "code",
   "execution_count": 51,
   "id": "aaf7b0a6",
   "metadata": {},
   "outputs": [
    {
     "data": {
      "text/plain": [
       "int"
      ]
     },
     "execution_count": 51,
     "metadata": {},
     "output_type": "execute_result"
    }
   ],
   "source": [
    "# Creating new mask in equatorial coordinates\n",
    "NSIDE = 64\n",
    "ipix=hp.nside2npix(NSIDE)\n",
    "m=np.zeros(ipix) #mask\n",
    "\n",
    "\n",
    "type(ipix)"
   ]
  },
  {
   "cell_type": "code",
   "execution_count": 80,
   "id": "d80fda09",
   "metadata": {
    "scrolled": true
   },
   "outputs": [
    {
     "name": "stdout",
     "output_type": "stream",
     "text": [
      "<class 'list'>\n"
     ]
    },
    {
     "name": "stderr",
     "output_type": "stream",
     "text": [
      "/home/akozameh/miniconda3/envs/CMB/lib/python3.10/site-packages/healpy/pixelfunc.py:529: RuntimeWarning: divide by zero encountered in _pix2ang_ring\n",
      "  theta, phi = pixlib._pix2ang_ring(nside, ipix)\n",
      "/home/akozameh/miniconda3/envs/CMB/lib/python3.10/site-packages/healpy/pixelfunc.py:529: RuntimeWarning: invalid value encountered in _pix2ang_ring\n",
      "  theta, phi = pixlib._pix2ang_ring(nside, ipix)\n"
     ]
    }
   ],
   "source": [
    "# I make a list of thetas and phi \n",
    "thetas=[]\n",
    "phis=[]\n",
    "for j in range(1,(ipix+1)):\n",
    "    theta,phi=(hp.pix2ang(NSIDE, j))\n",
    "    thetas.append(theta)\n",
    "    phis.append(phi)\n",
    "print(type(thetas))"
   ]
  },
  {
   "cell_type": "code",
   "execution_count": 115,
   "id": "45efbbee",
   "metadata": {},
   "outputs": [],
   "source": [
    "# it makes theta and phi array by numpy array\n",
    "theta_a=np.array(thetas)\n",
    "phis_a=np.array(phis)"
   ]
  },
  {
   "cell_type": "code",
   "execution_count": 99,
   "id": "5a1ff198",
   "metadata": {},
   "outputs": [],
   "source": [
    "# Converting the theta, phi in r.a and decl.\n",
    "decl=np.rad2deg(0.5 * np.pi - theta_a)\n",
    "ra = np.rad2deg(phis_a)"
   ]
  },
  {
   "cell_type": "code",
   "execution_count": 111,
   "id": "e68d1b24",
   "metadata": {},
   "outputs": [
    {
     "data": {
      "text/plain": [
       "(array([12159, 12160, 12161, ..., 49149, 49150, 49151]),)"
      ]
     },
     "execution_count": 111,
     "metadata": {},
     "output_type": "execute_result"
    }
   ],
   "source": [
    "# Selecting the survey class\n",
    "clas=np.where(decl>=-70) and np.where(decl<=30)\n",
    "clas\n"
   ]
  },
  {
   "cell_type": "code",
   "execution_count": 114,
   "id": "bc4ef2f9",
   "metadata": {},
   "outputs": [
    {
     "name": "stdout",
     "output_type": "stream",
     "text": [
      "1\n"
     ]
    }
   ],
   "source": []
  },
  {
   "cell_type": "code",
   "execution_count": 116,
   "id": "67755a0c",
   "metadata": {},
   "outputs": [],
   "source": [
    "# Fillinp up the regions with ones\n",
    "for d in range(len(clas)):\n",
    "    m[d]=1\n",
    "\n",
    "    "
   ]
  },
  {
   "cell_type": "code",
   "execution_count": 117,
   "id": "6148c47f",
   "metadata": {},
   "outputs": [
    {
     "data": {
      "image/png": "[encoded data removed]",
      "text/plain": [
       "<Figure size 612x388.8 with 2 Axes>"
      ]
     },
     "metadata": {
      "needs_background": "light"
     },
     "output_type": "display_data"
    }
   ],
   "source": [
    "hp.mollview(m)"
   ]
  },
  {
   "cell_type": "code",
   "execution_count": 50,
   "id": "5711c941",
   "metadata": {},
   "outputs": [],
   "source": [
    "hp.Rotator?"
   ]
  },
  {
   "cell_type": "code",
   "execution_count": null,
   "id": "b8a5ca41",
   "metadata": {},
   "outputs": [],
   "source": []
  }
 ],
 "metadata": {
  "kernelspec": {
   "display_name": "Python 3 (ipykernel)",
   "language": "python",
   "name": "python3"
  },
  "language_info": {
   "codemirror_mode": {
    "name": "ipython",
    "version": 3
   },
   "file_extension": ".py",
   "mimetype": "text/x-python",
   "name": "python",
   "nbconvert_exporter": "python",
   "pygments_lexer": "ipython3",
   "version": "3.10.4"
  }
 },
 "nbformat": 4,
 "nbformat_minor": 5
}
